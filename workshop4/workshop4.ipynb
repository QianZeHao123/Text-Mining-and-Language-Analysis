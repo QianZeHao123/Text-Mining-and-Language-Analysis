{
 "cells": [
  {
   "cell_type": "code",
   "execution_count": 1,
   "metadata": {},
   "outputs": [
    {
     "name": "stdout",
     "output_type": "stream",
     "text": [
      "Document: The new table is red. The blue table is broken.\n",
      "Pre-processed words: ['the', 'new', 'table', 'is', 'red', 'the', 'blue', 'table', 'is', 'broken']\n",
      "Document size: 10\n",
      "Vocabulary: {'red', 'new', 'table', 'broken', 'blue', 'is', 'the'}\n",
      "Vocabulary size: 7\n"
     ]
    }
   ],
   "source": [
    "text = \"The new table is red. The blue table is broken.\"\n",
    "words_processed = ['the', 'new', 'table', 'is', 'red', 'the', 'blue', 'table', 'is', 'broken']\n",
    "vocabulary = set() # Create an empty set\n",
    "for word in words_processed: # Iterate through available words\n",
    "    vocabulary.add(word) # Add word to set\n",
    "print(\"Document:\",text)\n",
    "print(\"Pre-processed words:\",words_processed)\n",
    "print(\"Document size:\",len(words_processed))\n",
    "print(\"Vocabulary:\",vocabulary)\n",
    "print(\"Vocabulary size:\",len(vocabulary))"
   ]
  },
  {
   "cell_type": "markdown",
   "metadata": {},
   "source": [
    "## 4.2 Unigrams (1-Grams)\n",
    "### 4.2.1 Compute unigrams"
   ]
  },
  {
   "cell_type": "code",
   "execution_count": 2,
   "metadata": {},
   "outputs": [
    {
     "name": "stdout",
     "output_type": "stream",
     "text": [
      "<FreqDist with 7 samples and 10 outcomes> \n",
      "\n",
      "{'blue': 1, 'broken': 1, 'is': 2, 'new': 1, 'red': 1, 'table': 2, 'the': 2}\n"
     ]
    }
   ],
   "source": [
    "import nltk\n",
    "from nltk import FreqDist  # Import the FreqDist function from NLTK\n",
    "tf = FreqDist(words_processed)  # Compute term frequency of words\n",
    "print(tf, \"\\n\")\n",
    "vocabulary = sorted(vocabulary)  # Sort alphabetically for better presentation\n",
    "unigrams = dict()  # Create empty dictionary for unigrams\n",
    "\n",
    "for word in vocabulary:\n",
    "    unigrams[word] = tf[word]\n",
    "print(unigrams)"
   ]
  },
  {
   "cell_type": "code",
   "execution_count": null,
   "metadata": {},
   "outputs": [],
   "source": []
  }
 ],
 "metadata": {
  "kernelspec": {
   "display_name": "DS",
   "language": "python",
   "name": "python3"
  },
  "language_info": {
   "codemirror_mode": {
    "name": "ipython",
    "version": 3
   },
   "file_extension": ".py",
   "mimetype": "text/x-python",
   "name": "python",
   "nbconvert_exporter": "python",
   "pygments_lexer": "ipython3",
   "version": "3.10.13"
  }
 },
 "nbformat": 4,
 "nbformat_minor": 2
}
