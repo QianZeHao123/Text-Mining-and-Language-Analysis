{
 "cells": [
  {
   "cell_type": "code",
   "execution_count": 1,
   "metadata": {},
   "outputs": [
    {
     "name": "stdout",
     "output_type": "stream",
     "text": [
      "I like playing tennis. I enjoy sports. Do I enjoy tennis? -> ['i', 'like', 'playing', 'tennis', 'i', 'enjoy', 'sports', 'do', 'i', 'enjoy', 'tennis']\n"
     ]
    }
   ],
   "source": [
    "from nltk import word_tokenize  # Import the word_tokenize function from NLTK\n",
    "from string import punctuation\n",
    "punctuation_list = list(punctuation)  # Convert punctuation to a list\n",
    "text = \"I like playing tennis. I enjoy sports. Do I enjoy tennis?\"\n",
    "tokens = word_tokenize(text.lower())  # Tokenise \"text\" into words\n",
    "words_list = []\n",
    "for word in tokens:\n",
    "    if (word not in punctuation_list):\n",
    "        words_list.append(word)\n",
    "print(text, \"->\", words_list)"
   ]
  },
  {
   "cell_type": "code",
   "execution_count": 3,
   "metadata": {},
   "outputs": [
    {
     "name": "stdout",
     "output_type": "stream",
     "text": [
      "Found 'i' at position 0. Context:\n",
      "[0][1] like\n",
      "Found 'i' at position 4. Context:\n",
      "[4][3] tennis\n",
      "[4][5] enjoy\n",
      "Found 'i' at position 8. Context:\n",
      "[8][7] do\n",
      "[8][9] enjoy\n",
      "\n",
      "Context of 'i'-> ['like', 'tennis', 'enjoy', 'do', 'enjoy']\n"
     ]
    }
   ],
   "source": [
    "context_size = 1\n",
    "query_word = \"i\"\n",
    "context = []\n",
    "for i in range(len(words_list)):  # Iterate through word list\n",
    "    if (words_list[i] == query_word):  # Check if word is the query word\n",
    "        print(\"Found '%s' at position %.0f. Context:\" % (query_word, i))\n",
    "        for j in range(i-context_size, i+context_size+1):  # Iterate through the context\n",
    "            # Ignore query word and non-valid word indexes\n",
    "            if ((j != i) and (j >= 0) and (j < len(words_list))):\n",
    "                context.append(words_list[j])  # Add word to context list\n",
    "                print(\"[%.0f][%.0f] %s\" % (i, j, words_list[j]))\n",
    "\n",
    "print(\"\\nContext of '%s'-> %s\" % (query_word, context))"
   ]
  },
  {
   "cell_type": "code",
   "execution_count": null,
   "metadata": {},
   "outputs": [],
   "source": []
  }
 ],
 "metadata": {
  "kernelspec": {
   "display_name": "DS",
   "language": "python",
   "name": "python3"
  },
  "language_info": {
   "codemirror_mode": {
    "name": "ipython",
    "version": 3
   },
   "file_extension": ".py",
   "mimetype": "text/x-python",
   "name": "python",
   "nbconvert_exporter": "python",
   "pygments_lexer": "ipython3",
   "version": "3.10.13"
  }
 },
 "nbformat": 4,
 "nbformat_minor": 2
}
