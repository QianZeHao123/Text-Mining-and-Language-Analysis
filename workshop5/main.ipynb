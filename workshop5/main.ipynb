{
 "cells": [
  {
   "cell_type": "code",
   "execution_count": 1,
   "metadata": {},
   "outputs": [
    {
     "name": "stdout",
     "output_type": "stream",
     "text": [
      "I like playing tennis. I enjoy sports. Do I enjoy tennis? -> ['i', 'like', 'playing', 'tennis', 'i', 'enjoy', 'sports', 'do', 'i', 'enjoy', 'tennis']\n"
     ]
    }
   ],
   "source": [
    "from nltk import word_tokenize  # Import the word_tokenize function from NLTK\n",
    "from string import punctuation\n",
    "punctuation_list = list(punctuation)  # Convert punctuation to a list\n",
    "text = \"I like playing tennis. I enjoy sports. Do I enjoy tennis?\"\n",
    "tokens = word_tokenize(text.lower())  # Tokenise \"text\" into words\n",
    "words_list = []\n",
    "for word in tokens:\n",
    "    if (word not in punctuation_list):\n",
    "        words_list.append(word)\n",
    "print(text, \"->\", words_list)"
   ]
  },
  {
   "cell_type": "code",
   "execution_count": 3,
   "metadata": {},
   "outputs": [
    {
     "name": "stdout",
     "output_type": "stream",
     "text": [
      "Found 'i' at position 0. Context:\n",
      "[0][1] like\n",
      "Found 'i' at position 4. Context:\n",
      "[4][3] tennis\n",
      "[4][5] enjoy\n",
      "Found 'i' at position 8. Context:\n",
      "[8][7] do\n",
      "[8][9] enjoy\n",
      "\n",
      "Context of 'i'-> ['like', 'tennis', 'enjoy', 'do', 'enjoy']\n"
     ]
    }
   ],
   "source": [
    "context_size = 1\n",
    "query_word = \"i\"\n",
    "context = []\n",
    "for i in range(len(words_list)):  # Iterate through word list\n",
    "    if (words_list[i] == query_word):  # Check if word is the query word\n",
    "        print(\"Found '%s' at position %.0f. Context:\" % (query_word, i))\n",
    "        for j in range(i-context_size, i+context_size+1):  # Iterate through the context\n",
    "            # Ignore query word and non-valid word indexes\n",
    "            if ((j != i) and (j >= 0) and (j < len(words_list))):\n",
    "                context.append(words_list[j])  # Add word to context list\n",
    "                print(\"[%.0f][%.0f] %s\" % (i, j, words_list[j]))\n",
    "\n",
    "print(\"\\nContext of '%s'-> %s\" % (query_word, context))"
   ]
  },
  {
   "cell_type": "code",
   "execution_count": 4,
   "metadata": {},
   "outputs": [
    {
     "name": "stdout",
     "output_type": "stream",
     "text": [
      "\n",
      "Context (size=1) of 'i'-> ['like', 'tennis', 'enjoy', 'do', 'enjoy']\n",
      "\n",
      "\n",
      "Context (size=2) of 'i'-> ['like', 'playing', 'playing', 'tennis', 'enjoy', 'sports', 'sports', 'do', 'enjoy', 'tennis']\n",
      "\n",
      "\n",
      "Context (size=3) of 'i'-> ['like', 'playing', 'tennis', 'like', 'playing', 'tennis', 'enjoy', 'sports', 'do', 'enjoy', 'sports', 'do', 'enjoy', 'tennis']\n",
      "\n",
      "\n",
      "Context (size=1) of 'enjoy'-> ['i', 'sports', 'i', 'tennis']\n",
      "\n",
      "\n",
      "Context (size=2) of 'enjoy'-> ['tennis', 'i', 'sports', 'do', 'do', 'i', 'tennis']\n",
      "\n",
      "\n",
      "Context (size=3) of 'enjoy'-> ['playing', 'tennis', 'i', 'sports', 'do', 'i', 'sports', 'do', 'i', 'tennis']\n",
      "\n"
     ]
    }
   ],
   "source": [
    "def get_context(word, words_list,context_size):\n",
    "    context = []\n",
    "    for i in range(len(words_list)): # Iterate through word list\n",
    "        if(words_list[i] == word): # Check if word is the query word\n",
    "            for j in range(i-context_size,i+context_size+1): # Iterate through the context\n",
    "                if( (j != i) and (j>=0) and (j<len(words_list)) ): # Ignore query word and non-valid word indexes\n",
    "                    context.append(words_list[j]) # Add word to context list\n",
    "    return context\n",
    "print(\"\\nContext (size=%.0f) of '%s'-> %s\\n\" % (1,\"i\",get_context(\"i\", words_list,1)))\n",
    "print(\"\\nContext (size=%.0f) of '%s'-> %s\\n\" % (2,\"i\",get_context(\"i\", words_list,2)))\n",
    "print(\"\\nContext (size=%.0f) of '%s'-> %s\\n\" % (3,\"i\",get_context(\"i\", words_list,3)))\n",
    "print(\"\\nContext (size=%.0f) of '%s'-> %s\\n\" % (1,\"enjoy\",get_context(\"enjoy\", words_list,1)))\n",
    "print(\"\\nContext (size=%.0f) of '%s'-> %s\\n\" % (2,\"enjoy\",get_context(\"enjoy\", words_list,2)))\n",
    "print(\"\\nContext (size=%.0f) of '%s'-> %s\\n\" % (3,\"enjoy\",get_context(\"enjoy\", words_list,3)))"
   ]
  },
  {
   "cell_type": "code",
   "execution_count": 7,
   "metadata": {},
   "outputs": [
    {
     "name": "stdout",
     "output_type": "stream",
     "text": [
      "Vocabulary: ['do', 'enjoy', 'i', 'like', 'playing', 'sports', 'tennis'] \n",
      "\n",
      "       \t     do\t  enjoy\t      i\t   like\tplaying\t sports\t tennis\n",
      "\n",
      "     do\t      0\t      0\t      1\t      0\t      0\t      1\t      0\n",
      "\n",
      "  enjoy\t      0\t      0\t      2\t      0\t      0\t      1\t      1\n",
      "\n",
      "      i\t      1\t      2\t      0\t      1\t      0\t      0\t      1\n",
      "\n",
      "   like\t      0\t      0\t      1\t      0\t      1\t      0\t      0\n",
      "\n",
      "playing\t      0\t      0\t      0\t      1\t      0\t      0\t      1\n",
      "\n",
      " sports\t      1\t      1\t      0\t      0\t      0\t      0\t      0\n",
      "\n",
      " tennis\t      0\t      1\t      1\t      0\t      1\t      0\t      0\n",
      "\n"
     ]
    }
   ],
   "source": [
    "vocabulary = set(words_list)  # Create vocabulary of unique words\n",
    "# Convert vocabulary to list to preserve ordering and sort it for better presentation\n",
    "vocabulary = sorted(list(vocabulary))\n",
    "print(\"Vocabulary:\", vocabulary, \"\\n\")\n",
    "context_size = 1\n",
    "print(\"%7s\" % \"\", end='')\n",
    "for word in vocabulary:\n",
    "    print(\"\\t%7s\" % word, end='')\n",
    "print(\"\\n\")\n",
    "for word in vocabulary:\n",
    "    print(\"%7s\" % word, end='')\n",
    "    context = get_context(word, words_list, context_size)\n",
    "    for context_word in vocabulary:\n",
    "        # Prints the number of times that context_word appears in the context list\n",
    "        print(\"\\t%7.0f\" % context.count(context_word), end='')\n",
    "    print(\"\\n\")"
   ]
  },
  {
   "cell_type": "code",
   "execution_count": 9,
   "metadata": {},
   "outputs": [
    {
     "name": "stdout",
     "output_type": "stream",
     "text": [
      "[[0 2 1 0 0 1 0]\n",
      " [2 0 2 0 0 1 2]\n",
      " [1 2 0 1 2 2 2]\n",
      " [0 0 1 0 1 0 1]\n",
      " [0 0 2 1 0 0 1]\n",
      " [1 1 2 0 0 0 0]\n",
      " [0 2 2 1 1 0 0]]\n"
     ]
    }
   ],
   "source": [
    "import numpy as np\n",
    "\n",
    "\n",
    "def compute_word_word_matrix(vocabulary, words_list, context_size):\n",
    "    # Create empty array of size VxV\n",
    "    word_word_matrix = np.zeros((len(vocabulary), len(vocabulary)), dtype=int)\n",
    "    for i in range(len(vocabulary)):\n",
    "        context = get_context(vocabulary[i], words_list, context_size)\n",
    "        for j in range(len(vocabulary)):\n",
    "            word_word_matrix[i, j] = context.count(vocabulary[j])\n",
    "    return word_word_matrix\n",
    "\n",
    "\n",
    "context_size = 2\n",
    "word_word_matrix = compute_word_word_matrix(\n",
    "    vocabulary, words_list, context_size)\n",
    "print(word_word_matrix)"
   ]
  },
  {
   "cell_type": "code",
   "execution_count": 10,
   "metadata": {},
   "outputs": [
    {
     "data": {
      "image/png": "[encoded data removed]",
      "text/plain": [
       "<Figure size 640x480 with 2 Axes>"
      ]
     },
     "metadata": {},
     "output_type": "display_data"
    }
   ],
   "source": [
    "import matplotlib\n",
    "import matplotlib.pyplot as plt\n",
    "fig, ax = plt.subplots()\n",
    "# Create heat map using the 'viridis' colourmap\n",
    "im = ax.imshow(word_word_matrix, cmap='viridis')\n",
    " # Show all ticks\n",
    "ax.set_xticks(np.arange(len(vocabulary)))\n",
    "ax.set_yticks(np.arange(len(vocabulary)))\n",
    "# Label ticks with the respective list entries\n",
    "ax.set_xticklabels(vocabulary)\n",
    "ax.set_yticklabels(vocabulary)\n",
    "# Rotate the tick labels and set their alignment.\n",
    "plt.setp(ax.get_xticklabels(), rotation=45, ha=\"right\",rotation_mode=\"anchor\")\n",
    "# Loop over data dimensions and create text annotations.\n",
    "for i in range(len(vocabulary)):\n",
    "    for j in range(len(vocabulary)):\n",
    "        text = ax.text(j, i, word_word_matrix[i, j], ha=\"center\", va=\"center\", color=\"w\")\n",
    "ax.set_title(\"Word-word co-occurrence matrix (Context size=%.0f)\" % context_size)\n",
    "plt.colorbar(im) # Add colour bar with colour range\n",
    "plt.show() # Show plot"
   ]
  },
  {
   "cell_type": "code",
   "execution_count": 11,
   "metadata": {},
   "outputs": [
    {
     "name": "stdout",
     "output_type": "stream",
     "text": [
      "do -> [0 2 1 0 0 1 0]\n",
      "enjoy -> [2 0 2 0 0 1 2]\n",
      "i -> [1 2 0 1 2 2 2]\n",
      "like -> [0 0 1 0 1 0 1]\n",
      "playing -> [0 0 2 1 0 0 1]\n",
      "sports -> [1 1 2 0 0 0 0]\n",
      "tennis -> [0 2 2 1 1 0 0]\n",
      "\n",
      "{'do': array([0, 2, 1, 0, 0, 1, 0]), 'enjoy': array([2, 0, 2, 0, 0, 1, 2]), 'i': array([1, 2, 0, 1, 2, 2, 2]), 'like': array([0, 0, 1, 0, 1, 0, 1]), 'playing': array([0, 0, 2, 1, 0, 0, 1]), 'sports': array([1, 1, 2, 0, 0, 0, 0]), 'tennis': array([0, 2, 2, 1, 1, 0, 0])}\n"
     ]
    }
   ],
   "source": [
    "def get_word_embedding(word, word_word_matrix, vocabulary):\n",
    "    # Gets word's index. Vocabulary must be of list type\n",
    "    word_index = vocabulary.index(word)\n",
    "    # Return the word_index-th row of the word-word matrix\n",
    "    return word_word_matrix[word_index, :]\n",
    "\n",
    "\n",
    "word_vectors = dict()\n",
    "for word in vocabulary:\n",
    "    word_vectors[word] = get_word_embedding(word, word_word_matrix, vocabulary)\n",
    "    print(word, \"->\", get_word_embedding(word, word_word_matrix, vocabulary))\n",
    "\n",
    "\n",
    "print(\"\\n%s\" % word_vectors)"
   ]
  },
  {
   "cell_type": "code",
   "execution_count": 12,
   "metadata": {},
   "outputs": [
    {
     "name": "stdout",
     "output_type": "stream",
     "text": [
      "i-> [2 1]\n",
      "tennis-> [2 0] \n",
      "\n"
     ]
    },
    {
     "data": {
      "image/png": "[encoded data removed]",
      "text/plain": [
       "<Figure size 640x480 with 1 Axes>"
      ]
     },
     "metadata": {},
     "output_type": "display_data"
    }
   ],
   "source": [
    "# Get index of word \"enjoy\" in vocabulary\n",
    "index_enjoy = vocabulary.index(\"enjoy\")\n",
    "index_do = vocabulary.index(\"do\")  # Get index of word \"do\" in vocabulary\n",
    "# Create word embedding using only the values for the dimensions \"enjoy\" and \"do\"\n",
    "embedding_i = word_vectors[\"i\"][[index_enjoy, index_do]]\n",
    "print(\"i->\", embedding_i)\n",
    "embedding_tennis = word_vectors[\"tennis\"][[index_enjoy, index_do]]\n",
    "print(\"tennis->\", embedding_tennis, \"\\n\")\n",
    "fig = plt.subplots()\n",
    "plt.plot([0, embedding_tennis[0]], [0, embedding_tennis[1]], 'g',\n",
    "         label=\"tennis\")  # Plot line from (0,0) to the \"tennis\" coordinates\n",
    "# Plot line from (0,0) to the \"i\" coordinates\n",
    "plt.plot([0, embedding_i[0]], [0, embedding_i[1]], 'b', label=\"i\")\n",
    "plt.xlabel('enjoy')  # Set label for x axis\n",
    "plt.ylabel('do')  # Set label for y axis\n",
    "plt.legend(loc=\"upper left\")  # Show plot legend at upper left location\n",
    "plt.show()  # Show plot"
   ]
  },
  {
   "cell_type": "code",
   "execution_count": 13,
   "metadata": {},
   "outputs": [
    {
     "name": "stdout",
     "output_type": "stream",
     "text": [
      "Words cosine distance:\n",
      "do -> do = 0\n",
      "do -> enjoy = 0.6603168897566213\n",
      "do -> i = 0.42264973081037427\n",
      "do -> like = 0.7642977396044841\n",
      "do -> playing = 0.6666666666666667\n",
      "do -> sports = 0.33333333333333337\n",
      "do -> tennis = 0.2254033307585166\n",
      "enjoy -> do = 0.6603168897566213\n",
      "enjoy -> enjoy = 0\n",
      "enjoy -> i = 0.4770236396315093\n",
      "enjoy -> like = 0.3594873847796515\n",
      "enjoy -> playing = 0.32063377951324257\n",
      "enjoy -> sports = 0.32063377951324257\n",
      "enjoy -> tennis = 0.6491767922771883\n",
      "i -> do = 0.42264973081037427\n",
      "i -> enjoy = 0.4770236396315093\n",
      "i -> i = 0\n",
      "i -> like = 0.45566894604818264\n",
      "i -> playing = 0.7113248654051871\n",
      "i -> sports = 0.7113248654051871\n",
      "i -> tennis = 0.47825080525004915\n",
      "like -> do = 0.7642977396044841\n",
      "like -> enjoy = 0.3594873847796515\n",
      "like -> i = 0.45566894604818264\n",
      "like -> like = 0\n",
      "like -> playing = 0.2928932188134524\n",
      "like -> sports = 0.5285954792089682\n",
      "like -> tennis = 0.4522774424948339\n",
      "playing -> do = 0.6666666666666667\n",
      "playing -> enjoy = 0.32063377951324257\n",
      "playing -> i = 0.7113248654051871\n",
      "playing -> like = 0.2928932188134524\n",
      "playing -> playing = 0\n",
      "playing -> sports = 0.33333333333333337\n",
      "playing -> tennis = 0.3545027756320972\n",
      "sports -> do = 0.33333333333333337\n",
      "sports -> enjoy = 0.32063377951324257\n",
      "sports -> i = 0.7113248654051871\n",
      "sports -> like = 0.5285954792089682\n",
      "sports -> playing = 0.33333333333333337\n",
      "sports -> sports = 0\n",
      "sports -> tennis = 0.2254033307585166\n",
      "tennis -> do = 0.2254033307585166\n",
      "tennis -> enjoy = 0.6491767922771883\n",
      "tennis -> i = 0.47825080525004915\n",
      "tennis -> like = 0.4522774424948339\n",
      "tennis -> playing = 0.3545027756320972\n",
      "tennis -> sports = 0.2254033307585166\n",
      "tennis -> tennis = 0\n"
     ]
    }
   ],
   "source": [
    "from scipy.spatial import distance\n",
    "print(\"Words cosine distance:\")\n",
    "for word1 in vocabulary:\n",
    "    for word2 in vocabulary:\n",
    "        print(word1,\"->\",word2,\"=\",distance.cosine(word_vectors[word1],word_vectors[word2]))"
   ]
  },
  {
   "cell_type": "markdown",
   "metadata": {},
   "source": [
    "### Exercise 5.1\n",
    "Create the word-word co-occurrence matrix for the dune.txt text for a context size equal to the 3 words prior and after a word. Visualise the word-word co-occurrence matrix as a heatmap."
   ]
  },
  {
   "cell_type": "code",
   "execution_count": 1,
   "metadata": {},
   "outputs": [
    {
     "name": "stdout",
     "output_type": "stream",
     "text": [
      "['in', 'the', 'week', 'before', 'their', 'departure', 'to', 'arrakis', ',', 'when', 'all', 'the', 'final', 'scurrying', 'about', 'had', 'reached', 'a', 'nearly', 'unbearable', 'frenzy', ',', 'an', 'old', 'crone', 'came', 'to', 'visit', 'the', 'mother', 'of', 'the', 'boy', ',', 'paul', '.', 'it', 'was', 'a', 'warm', 'night', 'at', 'castle', 'caladan', ',', 'and', 'the', 'ancient', 'pile', 'of', 'stone', 'that', 'had', 'served', 'the', 'atreides', 'family', 'as', 'home', 'for', 'twenty-six', 'generations', 'bore', 'that', 'cooled-sweat', 'feeling', 'it', 'acquired', 'before', 'a', 'change', 'in', 'the', 'weather', '.', 'the', 'old', 'woman', 'was', 'let', 'in', 'by', 'the', 'side', 'door', 'down', 'the', 'vaulted', 'passage', 'by', 'paul', \"'s\", 'room', 'and', 'she', 'was', 'allowed', 'a', 'moment', 'to', 'peer', 'in', 'at', 'him', 'where', 'he', 'lay', 'in', 'his', 'bed', '.', 'by', 'the', 'half-light', 'of', 'a', 'suspensor', 'lamp', ',', 'dimmed', 'and', 'hanging', 'near', 'the', 'floor', ',', 'the', 'awakened', 'boy', 'could', 'see', 'a', 'bulky', 'female', 'shape', 'at', 'his', 'door', ',', 'standing', 'one', 'step', 'ahead', 'of', 'his', 'mother', '.', 'the', 'old', 'woman', 'was', 'a', 'witch', 'shadow', '-', 'hair', 'like', 'matted', 'spiderwebs', ',', 'hooded', \"'round\", 'darkness', 'of', 'features', ',', 'eyes', 'like', 'glittering', 'jewels', '.']\n",
      "['in', 'the', 'week', 'before', 'their', 'departure', 'to', 'arrakis', 'when', 'all', 'the', 'final', 'scurrying', 'about', 'had', 'reached', 'a', 'nearly', 'unbearable', 'frenzy', 'an', 'old', 'crone', 'came', 'to', 'visit', 'the', 'mother', 'of', 'the', 'boy', 'paul', 'it', 'was', 'a', 'warm', 'night', 'at', 'castle', 'caladan', 'and', 'the', 'ancient', 'pile', 'of', 'stone', 'that', 'had', 'served', 'the', 'atreides', 'family', 'as', 'home', 'for', 'twenty-six', 'generations', 'bore', 'that', 'cooled-sweat', 'feeling', 'it', 'acquired', 'before', 'a', 'change', 'in', 'the', 'weather', 'the', 'old', 'woman', 'was', 'let', 'in', 'by', 'the', 'side', 'door', 'down', 'the', 'vaulted', 'passage', 'by', 'paul', \"'s\", 'room', 'and', 'she', 'was', 'allowed', 'a', 'moment', 'to', 'peer', 'in', 'at', 'him', 'where', 'he', 'lay', 'in', 'his', 'bed', 'by', 'the', 'half-light', 'of', 'a', 'suspensor', 'lamp', 'dimmed', 'and', 'hanging', 'near', 'the', 'floor', 'the', 'awakened', 'boy', 'could', 'see', 'a', 'bulky', 'female', 'shape', 'at', 'his', 'door', 'standing', 'one', 'step', 'ahead', 'of', 'his', 'mother', 'the', 'old', 'woman', 'was', 'a', 'witch', 'shadow', 'hair', 'like', 'matted', 'spiderwebs', 'hooded', \"'round\", 'darkness', 'of', 'features', 'eyes', 'like', 'glittering', 'jewels']\n"
     ]
    }
   ],
   "source": [
    "import nltk  # Import the NLTK library\n",
    "from nltk import sent_tokenize  # Import the sent_tokenize function from NLTK\n",
    "from nltk import word_tokenize  # Import the word_tokenize function from NLTK\n",
    "from string import punctuation  # Import the punctuation marks string\n",
    "import matplotlib\n",
    "import matplotlib.pyplot as plt\n",
    "\n",
    "duneFile = open(\"./dune.txt\", \"r\")  # Opens the file for reading only (\"r\")\n",
    "# Store the contents of the file in variable \"text\". read() returns all the contents of the file\n",
    "duneData = duneFile.read()\n",
    "duneFile.close()  # Close the file\n",
    "# print(duneData) # Print the contents of variable \"text\"\n",
    "\n",
    "\n",
    "duneData_words_lowercase = []\n",
    "for sentence in sent_tokenize(duneData):  # Iterate the sentences in \"duneData\"\n",
    "    for word in word_tokenize(sentence):  # Iterate the words in \"sentence\"\n",
    "        # Convert word to lowercase and add it to the \"words_lowercase\" list\n",
    "        duneData_words_lowercase.append(word.lower())\n",
    "print(duneData_words_lowercase)  # Print the list of lowercase words\n",
    "\n",
    "punctuation_list = list(punctuation)  # Convert punctuation to a list\n",
    "duneData_words_no_punctuation = []\n",
    "for word in duneData_words_lowercase:  # Iterate the words in \"words_lowercase\"\n",
    "    if (word not in punctuation_list):  # Check if word is not in the punctuation list\n",
    "        # Add word to \"words_no_punctuation\" list\n",
    "        duneData_words_no_punctuation.append(word)\n",
    "\n",
    "# Print the list of words without punctuation\n",
    "print(duneData_words_no_punctuation)\n",
    "\n",
    "\n",
    "from nltk.stem import WordNetLemmatizer # Import the WordNetLemmatizer\n",
    "wnl = WordNetLemmatizer() # Create a WordNetLemmatizer object"
   ]
  },
  {
   "cell_type": "code",
   "execution_count": null,
   "metadata": {},
   "outputs": [],
   "source": [
    "def penn_to_wordnet(penn_pos_tag):\n",
    "    tag_dictionary = {'NN':'n', 'JJ':'a','VB':'v', 'RB':'r'}\n",
    "    try:\n",
    "    # If the first two characters of the Penn Treebank POS tag are in the ``tag_dictionary''\n",
    "        return tag_dictionary[penn_pos_tag[:2]]\n",
    "    except:\n",
    "        return 'n' # Default to Noun if no mapping avalable.\n",
    "    \n",
    "lemmas = []\n",
    "for word, tag in pos_tagged_sentence:\n",
    "    lemmas.append(wnl.lemmatize(word.lower(), pos=penn_to_wordnet(tag)))\n",
    "print('I have been a student here for a long time')\n",
    "print(lemmas)"
   ]
  },
  {
   "cell_type": "code",
   "execution_count": null,
   "metadata": {},
   "outputs": [],
   "source": [
    "# ------------------- Vocabulary -------------------------\n",
    "duneData_wordlist = duneData_words_no_punctuation\n",
    "# Create vocabulary of unique words\n",
    "duneData_vocabulary = set(duneData_wordlist)\n",
    "duneData_vocabulary = sorted(list(duneData_vocabulary))\n",
    "# ------------------- Word-word matrix -------------------\n",
    "context_size = 3\n",
    "duneData_word_word_matrix = compute_word_word_matrix(\n",
    "    duneData_vocabulary, duneData_wordlist, context_size)\n",
    "print(duneData_word_word_matrix)\n",
    "# ------------------- Heat map -------------------\n",
    "fig, ax = plt.subplots()\n",
    "# Create heat map using the 'viridis' colourmap\n",
    "im = ax.imshow(duneData_word_word_matrix, cmap='viridis')\n",
    "# Show all ticks\n",
    "for i in range(len(duneData_vocabulary)):\n",
    "    for j in range(len(duneData_vocabulary)):\n",
    "        text = ax.text(\n",
    "            j, i, duneData_word_word_matrix[i, j], ha=\"center\", va=\"center\", color=\"w\")\n",
    "ax.set_title(\"Word-word co-occurrence matrix (Context size=%.0f)\" %\n",
    "             context_size)\n",
    "plt.colorbar(im)  # Add colour bar with colour range\n",
    "plt.show()  # Show plot"
   ]
  },
  {
   "cell_type": "markdown",
   "metadata": {},
   "source": [
    "###  Exercise 5.2\n",
    "Use the word-word co-occurrence matrix that you computed in Exercise 5.1 in order to compute the respective word embeddings for all words in the vocabulary of dune.txt. Then compute the pairwise cosine distance between all words in the vocabulary and visualise them as a heatmap."
   ]
  },
  {
   "cell_type": "code",
   "execution_count": 53,
   "metadata": {},
   "outputs": [
    {
     "name": "stdout",
     "output_type": "stream",
     "text": [
      "[\"'round\", \"'s\", 'a', 'about', 'acquired', 'ahead', 'all', 'allowed', 'an', 'ancient', 'and', 'arrakis', 'as', 'at', 'atreides', 'awakened', 'bed', 'before', 'bore', 'boy', 'bulky', 'by', 'caladan', 'came', 'castle', 'change', 'cooled-sweat', 'could', 'crone', 'darkness', 'departure', 'dimmed', 'door', 'down', 'eyes', 'family', 'features', 'feeling', 'female', 'final', 'floor', 'for', 'frenzy', 'generations', 'glittering', 'had', 'hair', 'half-light', 'hanging', 'he', 'him', 'his', 'home', 'hooded', 'in', 'it', 'jewels', 'lamp', 'lay', 'let', 'like', 'matted', 'moment', 'mother', 'near', 'nearly', 'night', 'of', 'old', 'one', 'passage', 'paul', 'peer', 'pile', 'reached', 'room', 'scurrying', 'see', 'served', 'shadow', 'shape', 'she', 'side', 'spiderwebs', 'standing', 'step', 'stone', 'suspensor', 'that', 'the', 'their', 'to', 'twenty-six', 'unbearable', 'vaulted', 'visit', 'warm', 'was', 'weather', 'week', 'when', 'where', 'witch', 'woman']\n"
     ]
    }
   ],
   "source": [
    "print(duneData_vocabulary)"
   ]
  },
  {
   "cell_type": "code",
   "execution_count": 54,
   "metadata": {},
   "outputs": [
    {
     "name": "stdout",
     "output_type": "stream",
     "text": [
      "Words cosine distance:\n"
     ]
    },
    {
     "ename": "IndexError",
     "evalue": "only integers, slices (`:`), ellipsis (`...`), numpy.newaxis (`None`) and integer or boolean arrays are valid indices",
     "output_type": "error",
     "traceback": [
      "\u001b[1;31m---------------------------------------------------------------------------\u001b[0m",
      "\u001b[1;31mIndexError\u001b[0m                                Traceback (most recent call last)",
      "Cell \u001b[1;32mIn[54], line 12\u001b[0m\n\u001b[0;32m      9\u001b[0m \u001b[38;5;28;01mfor\u001b[39;00m word1 \u001b[38;5;129;01min\u001b[39;00m duneData_vocabulary:\n\u001b[0;32m     10\u001b[0m     \u001b[38;5;28;01mfor\u001b[39;00m word2 \u001b[38;5;129;01min\u001b[39;00m duneData_vocabulary:\n\u001b[0;32m     11\u001b[0m         \u001b[38;5;28mprint\u001b[39m(word1, \u001b[38;5;124m\"\u001b[39m\u001b[38;5;124m->\u001b[39m\u001b[38;5;124m\"\u001b[39m, word2, \u001b[38;5;124m\"\u001b[39m\u001b[38;5;124m=\u001b[39m\u001b[38;5;124m\"\u001b[39m,\n\u001b[1;32m---> 12\u001b[0m               distance\u001b[38;5;241m.\u001b[39mcosine(\u001b[43mduneData_word_word_matrix\u001b[49m\u001b[43m[\u001b[49m\u001b[43mword1\u001b[49m\u001b[43m]\u001b[49m, duneData_word_word_matrix[word2]))\n\u001b[0;32m     13\u001b[0m \u001b[38;5;66;03m# for word1 in vocabulary:\u001b[39;00m\n\u001b[0;32m     14\u001b[0m \u001b[38;5;66;03m#     for word2 in vocabulary:\u001b[39;00m\n\u001b[0;32m     15\u001b[0m \u001b[38;5;66;03m#         print(word1, \"->\", word2, \"=\",\u001b[39;00m\n\u001b[0;32m     16\u001b[0m \u001b[38;5;66;03m#               distance.cosine(word_vectors[word1], word_vectors[word2]))\u001b[39;00m\n",
      "\u001b[1;31mIndexError\u001b[0m: only integers, slices (`:`), ellipsis (`...`), numpy.newaxis (`None`) and integer or boolean arrays are valid indices"
     ]
    }
   ],
   "source": [
    "from scipy.spatial import distance\n",
    "word_vectors = dict()\n",
    "for word in duneData_vocabulary:\n",
    "    word_vectors[word] = get_word_embedding(\n",
    "        word, duneData_word_word_matrix, duneData_vocabulary)\n",
    "    # print(word, \"->\", get_word_embedding(word, duneData_word_word_matrix, duneData_vocabulary))\n",
    "\n",
    "print(\"Words cosine distance:\")\n",
    "for word1 in duneData_vocabulary:\n",
    "    for word2 in duneData_vocabulary:\n",
    "        print(word1, \"->\", word2, \"=\",\n",
    "              distance.cosine(duneData_word_word_matrix[word1], duneData_word_word_matrix[word2]))\n",
    "# for word1 in vocabulary:\n",
    "#     for word2 in vocabulary:\n",
    "#         print(word1, \"->\", word2, \"=\",\n",
    "#               distance.cosine(word_vectors[word1], word_vectors[word2]))"
   ]
  },
  {
   "cell_type": "code",
   "execution_count": null,
   "metadata": {},
   "outputs": [],
   "source": [
    "# It is same to Exercise 5.1 and 5.2"
   ]
  }
 ],
 "metadata": {
  "kernelspec": {
   "display_name": "DS",
   "language": "python",
   "name": "python3"
  },
  "language_info": {
   "codemirror_mode": {
    "name": "ipython",
    "version": 3
   },
   "file_extension": ".py",
   "mimetype": "text/x-python",
   "name": "python",
   "nbconvert_exporter": "python",
   "pygments_lexer": "ipython3",
   "version": "3.10.13"
  }
 },
 "nbformat": 4,
 "nbformat_minor": 2
}
