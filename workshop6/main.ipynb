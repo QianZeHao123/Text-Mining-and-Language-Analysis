{
 "cells": [
  {
   "cell_type": "code",
   "execution_count": 1,
   "metadata": {},
   "outputs": [
    {
     "name": "stdout",
     "output_type": "stream",
     "text": [
      "     0         1         2         3         4         5         6    \\\n",
      "0    one  0.073525 -0.031703  0.054010 -0.040015 -0.011894  0.002958   \n",
      "1   time  0.061892  0.066106  0.026482 -0.122901  0.016603  0.024152   \n",
      "2  would -0.005455 -0.064055  0.106359  0.000271 -0.005658  0.017313   \n",
      "3   made -0.033224 -0.046773 -0.022644 -0.115277 -0.037984  0.109500   \n",
      "4   well  0.032183  0.058166  0.102063 -0.054714 -0.037364  0.013909   \n",
      "\n",
      "        7         8         9    ...       291       292       293       294  \\\n",
      "0 -0.065406  0.079166  0.099932  ...  0.048875  0.014754 -0.038729  0.033155   \n",
      "1 -0.057542  0.119501  0.033247  ... -0.043285  0.045578 -0.139174  0.109938   \n",
      "2 -0.030339  0.014298  0.030399  ... -0.029693  0.083669 -0.089212  0.063672   \n",
      "3 -0.138488  0.038567  0.001758  ...  0.005144  0.002312 -0.043491  0.091255   \n",
      "4  0.025827  0.072022 -0.050159  ...  0.017727  0.056166 -0.106694  0.046184   \n",
      "\n",
      "        295       296       297       298       299       300  \n",
      "0 -0.120390 -0.065746 -0.023745  0.012824  0.005162 -0.130008  \n",
      "1 -0.057847  0.010336  0.114048  0.042011  0.032165  0.051062  \n",
      "2 -0.048096  0.028711  0.032499  0.104135  0.001100  0.024307  \n",
      "3 -0.065307 -0.060637 -0.029168  0.034441  0.024149  0.003539  \n",
      "4 -0.091665 -0.088526  0.016668  0.061213 -0.015307 -0.076759  \n",
      "\n",
      "[5 rows x 301 columns] \n",
      "\n",
      "\n",
      "Totalwords: 155\n",
      "Dimensions: 300\n"
     ]
    }
   ],
   "source": [
    "import pandas as pd  # Import the pandas library\n",
    "# Read csv file. Indicate that there is no row with 1 column titles\n",
    "df = pd.read_csv('./data/testvectors.csv', header=None)\n",
    "print(df.head(5), \"\\n\")  # Printthefirst5rowsofthedataframe\n",
    "count_row = df.shape[0]  # Givesnumberofrows\n",
    "count_col = df.shape[1]  # Givesnumberofcolumns\n",
    "print(\"\\nTotalwords:\", count_row)\n",
    "print(\"Dimensions:\", count_col-1)  # Subtract1forthewordcolumn"
   ]
  },
  {
   "cell_type": "code",
   "execution_count": 2,
   "metadata": {},
   "outputs": [
    {
     "name": "stdout",
     "output_type": "stream",
     "text": [
      "['one', 'time', 'would', 'made', 'well', 'family', 'use', 'took', 'could', 'home', 'served', 'large', 'like', 'day', 'final', 'near', 'much', 'book', 'came', 'late', 'side', 'started', 'way', 'take', 'without', 'old', 'making', 'field', 'never', 'across', 'see', 'features', 'seen', 'mother', 'either', 'get', 'close', 'reached', 'white', 'change', 'female', 'beginning', 'allowed', 'night', 'week', 'natural', 'ran', 'thought', 'woman', 'room', 'nearly', 'sister', 'acquired', 'whether', 'ancient', 'actually', 'feet', 'bank', 'floor', 'occurred', 'stone', 'twice', 'visit', 'say', 'quite', 'castle', 'think', 'pop', 'shape', 'getting', 'reading', 'nothing', 'boy', 'standing', 'mind', 'ahead', 'weather', 'let', 'door', 'feel', 'step', 'eyes', 'hot', 'hair', 'moment', 'worth', 'afterwards', 'departure', 'shall', 'lay', 'passage', 'watch', 'looked', 'seemed', 'bed', 'sitting', 'pictures', 'feeling', 'hear', 'generations', 'trouble', 'warm', 'suddenly', 'considering', 'burning', 'remarkable', 'bore', 'pink', 'hanging', 'pleasure', 'shadow', 'peer', 'darkness', 'picking', 'tired', 'lamp', 'witch', 'conversations', 'ought', 'pile', 'rabbit', 'hedge', 'curiosity', 'stupid', 'jewels', 'dear', 'twenty-six', 'vaulted', 'awakened', 'wondered', 'bulky', 'frenzy', 'hooded', 'hurried', 'oh', 'fortunately', 'unbearable', 'sleepy', 'flashed', 'glittering', 'in', 'by', 'matted', 'the', 'dimmed', 'of', 'and', 'daisies', 'a', 'to', 'scurrying', 'for', 'crone', 'on', 'is']\n"
     ]
    }
   ],
   "source": [
    "# Convert thefirstcolumnofthedataframetoalistandstoretoa variable\n",
    "available_words = df[0].tolist()\n",
    "print(available_words)"
   ]
  },
  {
   "cell_type": "code",
   "execution_count": 3,
   "metadata": {},
   "outputs": [
    {
     "name": "stdout",
     "output_type": "stream",
     "text": [
      "mother-> [ 0.007815  0.026617 -0.036383 -0.051246  0.000183  0.071259  0.017416]\n",
      "boy-> [ 0.040253  0.001048  0.023576  0.003103 -0.027837  0.035486  0.04829 ]\n"
     ]
    }
   ],
   "source": [
    "word_embeddings = dict()\n",
    "for i in range(count_row):  # Iterate through all rows in dataframe (words)\n",
    "    word = df.iloc[i, 0]  # Get word\n",
    "    # Get embedding and convert to float numpy array\n",
    "    embedding = df.iloc[i, 1:count_col].to_numpy(dtype=float)\n",
    "    word_embeddings[word] = embedding\n",
    "# Print the first 7 elements of the embedding for word \"mother\"\n",
    "print(\"mother->\", word_embeddings[\"mother\"][0:7])\n",
    "# Print the first 7 elements of the embedding for word \"boy\"\n",
    "print(\"boy->\", word_embeddings[\"boy\"][0:7])"
   ]
  },
  {
   "cell_type": "code",
   "execution_count": 4,
   "metadata": {},
   "outputs": [
    {
     "name": "stdout",
     "output_type": "stream",
     "text": [
      "      \tmother\t   boy\tsister\tfamily\t  home\trabbit\t  eyes\n",
      "mother\t0.0000\t0.4318\t0.3882\t0.4893\t0.7175\t0.7303\t0.7059\n",
      "   boy\t0.4318\t0.0000\t0.6213\t0.7388\t0.8153\t0.6080\t0.6594\n",
      "sister\t0.3882\t0.6213\t0.0000\t0.6224\t0.7767\t0.8759\t0.8403\n",
      "family\t0.4893\t0.7388\t0.6224\t0.0000\t0.7678\t0.8327\t0.8262\n",
      "  home\t0.7175\t0.8153\t0.7767\t0.7678\t0.0000\t0.8341\t0.8851\n",
      "rabbit\t0.7303\t0.6080\t0.8759\t0.8327\t0.8341\t0.0000\t0.6599\n",
      "  eyes\t0.7059\t0.6594\t0.8403\t0.8262\t0.8851\t0.6599\t0.0000\n"
     ]
    }
   ],
   "source": [
    "from scipy.spatial import distance\n",
    "test_words = [\"mother\", \"boy\", \"sister\", \"family\", \"home\", \"rabbit\", \"eyes\"]\n",
    "print(\"%6s\" % \"\", end=\"\")\n",
    "for word in test_words:\n",
    "    print(\"\\t%6s\" % word, end=\"\")\n",
    "print(\"\")\n",
    "for word1 in test_words:\n",
    "    print(\"%6s\" % word1, end=\"\")\n",
    "    for word2 in test_words:\n",
    "        print(\"\\t%1.4f\" % distance.cosine(\n",
    "            word_embeddings[word1], word_embeddings[word2]), end=\"\")\n",
    "    print(\"\")"
   ]
  },
  {
   "cell_type": "code",
   "execution_count": 5,
   "metadata": {},
   "outputs": [
    {
     "name": "stdout",
     "output_type": "stream",
     "text": [
      "My mother was sitting on the bed -> ['my', 'mother', 'was', 'sitting', 'on', 'the', 'bed']\n",
      "The night looked remarkable at the beginning -> ['the', 'night', 'looked', 'remarkable', 'at', 'the', 'beginning']\n"
     ]
    }
   ],
   "source": [
    "from nltk import word_tokenize # Import the word_tokenize function from NLTK\n",
    "text1 = \"My mother was sitting on the bed\"\n",
    "text2 = \"The night looked remarkable at the beginning\"\n",
    "tokens1 = word_tokenize(text1.lower()) # Tokenise \"text1\" into words\n",
    "tokens2 = word_tokenize(text2.lower()) # Tokenise \"text1\" into words\n",
    "words_list1 = []\n",
    "for word in tokens1:\n",
    "    words_list1.append(word)\n",
    "print(text1,\"->\",words_list1)\n",
    "words_list2 = []\n",
    "for word in tokens2:\n",
    "    words_list2.append(word)\n",
    "print(text2,\"->\",words_list2)"
   ]
  },
  {
   "cell_type": "code",
   "execution_count": 6,
   "metadata": {},
   "outputs": [
    {
     "name": "stdout",
     "output_type": "stream",
     "text": [
      "Text1 word embeddings:\n",
      "my -> n/a\n",
      "mother -> [ 0.007815  0.026617 -0.036383 -0.051246]\n",
      "was -> n/a\n",
      "sitting -> [9.7000e-05 4.1846e-02 8.3230e-02 5.5060e-03]\n",
      "on -> [ 0.005252 -0.002234 -0.0648   -0.001852]\n",
      "the -> [ 0.016258 -0.013271 -0.007168 -0.083179]\n",
      "bed -> [ 0.0882    0.056767 -0.021443  0.014364]\n",
      "\n",
      "Text2 word embeddings:\n",
      "the -> [ 0.016258 -0.013271 -0.007168 -0.083179]\n",
      "night -> [ 0.06248  -0.051441 -0.023803  0.038181]\n",
      "looked -> [-0.011535  0.016638  0.063261 -0.033455]\n",
      "remarkable -> [ 0.065266 -0.021301  0.060876  0.068074]\n",
      "at -> n/a\n",
      "the -> [ 0.016258 -0.013271 -0.007168 -0.083179]\n",
      "beginning -> [-0.017209  0.131408  0.024707 -0.036714]\n"
     ]
    }
   ],
   "source": [
    "print(\"Text1 word embeddings:\")\n",
    "for word in words_list1:\n",
    "    try:\n",
    "        print(word,\"->\",word_embeddings[word][0:4]) # Print first 4 elements of embedding\n",
    "    except:\n",
    "        print(word,\"-> n/a\")\n",
    "print(\"\\nText2 word embeddings:\")\n",
    "for word in words_list2:\n",
    "    try:\n",
    "        print(word,\"->\",word_embeddings[word][0:4]) # Print first 4 elements of embedding\n",
    "    except:\n",
    "        print(word,\"-> n/a\")"
   ]
  },
  {
   "cell_type": "code",
   "execution_count": 7,
   "metadata": {},
   "outputs": [
    {
     "name": "stdout",
     "output_type": "stream",
     "text": [
      "Text1 embedding (k=5)-> [ 0.0235244  0.021945  -0.0093128 -0.0232814  0.0077766] \n",
      "\n",
      "Text2 embedding (k=5)-> [ 0.02191967  0.008127    0.01845083 -0.021712   -0.008242  ] \n",
      "\n",
      "Text1 embedding (k=20)-> [ 0.0235244  0.021945  -0.0093128 -0.0232814  0.0077766  0.0664142\n",
      " -0.0294452  0.0385194  0.0415822  0.0027638  0.038138  -0.0464678\n",
      "  0.0299128 -0.0162724  0.0267094 -0.0193898 -0.0579416  0.0045326\n",
      "  0.0272054  0.002882 ] \n",
      "\n",
      "Text2 embedding (k=20)-> [ 0.02191967  0.008127    0.01845083 -0.021712   -0.008242    0.05405583\n",
      " -0.00840717  0.07847117  0.017932   -0.01513817  0.035567   -0.04270783\n",
      "  0.05314033 -0.03148433 -0.0126355  -0.016384   -0.08776767  0.01809233\n",
      "  0.06723833 -0.00525483] \n",
      "\n"
     ]
    }
   ],
   "source": [
    "import numpy as np\n",
    "\n",
    "\n",
    "def get_document_embedding(word_list, word_embeddings, k):\n",
    "    # Create embedding of k zero-valued elements\n",
    "    document_embedding = np.zeros(k, dtype=float)\n",
    "    valid_words = 0\n",
    "    for word in word_list:\n",
    "        try:\n",
    "            document_embedding = document_embedding + \\\n",
    "                word_embeddings[word][0:k]  # Add word embeddingto partial sum\n",
    "            valid_words += 1\n",
    "        except:\n",
    "            pass  # If word embedding is not available, then ignore the word\n",
    "    # Divide all elements by number of valid words to get the mean\n",
    "    document_embedding = document_embedding / valid_words\n",
    "    return document_embedding\n",
    "\n",
    "\n",
    "print(\"Text1 embedding (k=5)->\",\n",
    "      get_document_embedding(words_list1, word_embeddings, 5), \"\\n\")\n",
    "print(\"Text2 embedding (k=5)->\",\n",
    "      get_document_embedding(words_list2, word_embeddings, 5), \"\\n\")\n",
    "print(\"Text1 embedding (k=20)->\",\n",
    "      get_document_embedding(words_list1, word_embeddings, 20), \"\\n\")\n",
    "print(\"Text2 embedding (k=20)->\",\n",
    "      get_document_embedding(words_list2, word_embeddings, 20), \"\\n\")"
   ]
  },
  {
   "cell_type": "code",
   "execution_count": 8,
   "metadata": {},
   "outputs": [
    {
     "name": "stdout",
     "output_type": "stream",
     "text": [
      "Cosine distance of text1 and text2 for k = 5: 0.3855626793684509\n",
      "Cosine distance of text1 and text2 for k = 20: 0.16427167205198012\n",
      "Cosine distance of text1 and text2 for k = 150: 0.28613327209110084\n",
      "Cosine distance of text1 and text2 for k = 300: 0.3327962278223764\n"
     ]
    }
   ],
   "source": [
    "print(\"Cosine distance of text1 and text2 for k = 5:\", distance.cosine(get_document_embedding(\n",
    "    words_list1, word_embeddings, 5), get_document_embedding(words_list2, word_embeddings, 5)))\n",
    "print(\"Cosine distance of text1 and text2 for k = 20:\", distance.cosine(get_document_embedding(\n",
    "    words_list1, word_embeddings, 20), get_document_embedding(words_list2, word_embeddings, 20)))\n",
    "print(\"Cosine distance of text1 and text2 for k = 150:\", distance.cosine(get_document_embedding(\n",
    "    words_list1, word_embeddings, 150), get_document_embedding(words_list2, word_embeddings, 150)))\n",
    "print(\"Cosine distance of text1 and text2 for k = 300:\", distance.cosine(get_document_embedding(\n",
    "    words_list1, word_embeddings, 300), get_document_embedding(words_list2, word_embeddings, 300)))"
   ]
  },
  {
   "cell_type": "code",
   "execution_count": 9,
   "metadata": {},
   "outputs": [
    {
     "name": "stdout",
     "output_type": "stream",
     "text": [
      "pos_01.txt\n",
      "neg_01.txt\n",
      "pos_02.txt\n",
      "neg_02.txt\n",
      "pos_03.txt\n",
      "neg_03.txt\n",
      "pos_04.txt\n",
      "neg_04.txt\n",
      "pos_05.txt\n",
      "neg_05.txt\n",
      "pos_06.txt\n",
      "neg_06.txt\n",
      "pos_07.txt\n",
      "neg_07.txt\n",
      "pos_08.txt\n",
      "neg_08.txt\n",
      "pos_09.txt\n",
      "neg_09.txt\n",
      "pos_10.txt\n",
      "neg_10.txt\n",
      "No of texts: 20\n",
      "No of labels: 20\n"
     ]
    }
   ],
   "source": [
    "text = []\n",
    "label = []\n",
    "for i in range(1, 11):\n",
    "    # Create string with the filename for positive sentiment reviews\n",
    "    filename_pos = \"pos_%02d.txt\" % i\n",
    "    # Create string with the filename for negative sentiment reviews\n",
    "    filename_neg = \"neg_%02d.txt\" % i\n",
    "    print(filename_pos)\n",
    "    print(filename_neg)\n",
    "    # Open positive sentiment file\n",
    "    # Opens the file for reading only (\"r\")\n",
    "    f = open('./data/'+filename_pos, \"r\")\n",
    "    text.append(f.read())\n",
    "    f.close()  # Close the file\n",
    "    label.append(\"pos\")  # Add positive sentiment label to labels list\n",
    "    # Open negative sentiment file\n",
    "    f = open('./data/'+filename_neg, \"r\")  # Opens the file for reading only (\"r\")\n",
    "    text.append(f.read())\n",
    "    f.close()  # Close the file\n",
    "    label.append(\"neg\")  # Add negative sentiment label to labels list\n",
    "print(\"No of texts:\", len(text))\n",
    "print(\"No of labels:\", len(label))"
   ]
  },
  {
   "cell_type": "code",
   "execution_count": 10,
   "metadata": {},
   "outputs": [
    {
     "name": "stdout",
     "output_type": "stream",
     "text": [
      "0 [-0.00144049 -0.01854695  0.01171497 -0.05752111 -0.03104189] -> pos\n",
      "1 [-0.00351737 -0.02884196  0.00754981 -0.03615796 -0.028105  ] -> neg\n",
      "2 [ 0.01211377 -0.01454308  0.01602908 -0.06364362 -0.02417946] -> pos\n",
      "3 [ 0.0013629  -0.02655979  0.00252164 -0.05645312 -0.02949102] -> neg\n",
      "4 [-0.025445   -0.03421304  0.012184   -0.04374732 -0.0253342 ] -> pos\n",
      "5 [-0.0044761  -0.0279336   0.0044961  -0.04975507 -0.0246164 ] -> neg\n",
      "6 [ 0.01035458 -0.02045229  0.00215542 -0.0624085  -0.04229192] -> pos\n",
      "7 [-0.00919744 -0.02292037  0.01568922 -0.0474781  -0.02196531] -> neg\n",
      "8 [-0.01577481 -0.02448513  0.00704729 -0.04966781 -0.02111129] -> pos\n",
      "9 [ 0.00515638 -0.01661385  0.00617285 -0.04173085 -0.04571008] -> neg\n",
      "10 [ 0.00058903 -0.01620987  0.0142112  -0.0417965  -0.0315724 ] -> pos\n",
      "11 [ 0.0067564  -0.01518371  0.00774966 -0.04712666 -0.03590557] -> neg\n",
      "12 [-0.00779024 -0.02070952  0.00332203 -0.05560338 -0.0289061 ] -> pos\n",
      "13 [-0.00285736 -0.0158494   0.008223   -0.05303438 -0.02770218] -> neg\n",
      "14 [-0.011991   -0.02553873 -0.01264482 -0.05226082 -0.02133141] -> pos\n",
      "15 [-0.01091673 -0.02792297  0.00905532 -0.0435513  -0.03137696] -> neg\n",
      "16 [-0.00434465 -0.01706052 -0.00136974 -0.04984022 -0.03162339] -> pos\n",
      "17 [-0.01131559 -0.01907496 -0.00221819 -0.05785556 -0.01828148] -> neg\n",
      "18 [ 0.00109655 -0.02176745  0.00632607 -0.0452914  -0.03907748] -> pos\n",
      "19 [ 0.00515789 -0.01992803  0.02873918 -0.04443174 -0.01608311] -> neg\n"
     ]
    }
   ],
   "source": [
    "from nltk import word_tokenize\n",
    "from string import punctuation\n",
    "punctuation_list = list(punctuation)\n",
    "text_embeddings = []\n",
    "for i in range(len(text)): # Iterate through all texts\n",
    "    tokens = word_tokenize(text[i].lower()) # Tokenise \"text\" into words\n",
    "    words_list = []\n",
    "    for word in tokens:\n",
    "        if(word not in punctuation_list):\n",
    "            words_list.append(word)\n",
    "    text_embeddings.append(get_document_embedding(words_list,word_embeddings,300))\n",
    "for i in range(len(text)): # Iterate through all texts\n",
    "    print(i,text_embeddings[i][0:5],\"->\",label[i]) # Print the first 5 elements of each document embedding"
   ]
  },
  {
   "cell_type": "code",
   "execution_count": 11,
   "metadata": {},
   "outputs": [
    {
     "name": "stdout",
     "output_type": "stream",
     "text": [
      "['pos', 'neg', 'pos', 'neg', 'pos', 'neg', 'pos', 'neg', 'pos', 'neg', 'pos', 'neg', 'pos', 'neg', 'pos', 'neg', 'pos', 'neg', 'pos', 'neg'] -> [1 0 1 0 1 0 1 0 1 0 1 0 1 0 1 0 1 0 1 0]\n"
     ]
    }
   ],
   "source": [
    "from sklearn import preprocessing\n",
    "le = preprocessing.LabelEncoder() # Create labelEncoder\n",
    "labels_encoded=le.fit_transform(label) # Encode labels to numbers\n",
    "print(label,\"->\",labels_encoded)"
   ]
  },
  {
   "cell_type": "code",
   "execution_count": 12,
   "metadata": {},
   "outputs": [
    {
     "name": "stdout",
     "output_type": "stream",
     "text": [
      "Prediction : [1 0 1 1 1 1]\n",
      "True labels: [1 0 1 0 1 0]\n",
      "Confusion matrix:\n",
      "[[1 2]\n",
      " [0 3]]\n",
      "Accuracy: 66.67%\n"
     ]
    }
   ],
   "source": [
    "from sklearn.neighbors import KNeighborsClassifier\n",
    "from sklearn.metrics import confusion_matrix\n",
    "from sklearn.metrics import accuracy_score\n",
    "# Divide dataset to training (14 samples- 7 positive,7 negative) and test (6 samples- 3 positive, 3 negative)\n",
    "training_features = text_embeddings[0:14]\n",
    "training_labels = labels_encoded[0:14]\n",
    "test_features = text_embeddings[14:20]\n",
    "test_labels = labels_encoded[14:20]\n",
    "model = KNeighborsClassifier(n_neighbors=3)\n",
    "# Train the model using the training set\n",
    "model.fit(training_features,training_labels)\n",
    "#Predict Output\n",
    "predicted= model.predict(test_features)\n",
    "print(\"Prediction :\",predicted)\n",
    "print(\"True labels:\",test_labels)\n",
    "\n",
    "cm = confusion_matrix(test_labels, predicted) # Create confusion matrix\n",
    "accuracy = accuracy_score(test_labels, predicted) # Compute classification accuracy\n",
    "print(\"Confusion matrix:\\n%s\" % cm)\n",
    "print(\"Accuracy: %.2f%s\" % (accuracy*100,\"%\"))"
   ]
  },
  {
   "cell_type": "code",
   "execution_count": 13,
   "metadata": {},
   "outputs": [
    {
     "name": "stdout",
     "output_type": "stream",
     "text": [
      "Prediction : [1 0 1 1 0 0]\n",
      "True labels: [1 0 1 0 1 0]\n",
      "Confusion matrix:\n",
      "[[2 1]\n",
      " [1 2]]\n",
      "Accuracy: 66.67%\n"
     ]
    }
   ],
   "source": [
    "#Import svm model\n",
    "from sklearn import svm\n",
    "#Create a svm Classifier\n",
    "clf = svm.SVC(kernel='linear') # Linear Kernel\n",
    "#Train the model using the training set\n",
    "clf.fit(training_features,training_labels)\n",
    "#Predict the response for test dataset\n",
    "predicted = clf.predict(test_features)\n",
    "print(\"Prediction :\",predicted)\n",
    "print(\"True labels:\",test_labels)\n",
    "cm = confusion_matrix(test_labels, predicted)\n",
    "accuracy = accuracy_score(test_labels, predicted)\n",
    "print(\"Confusion matrix:\\n%s\" % cm)\n",
    "print(\"Accuracy: %.2f%s\" % (accuracy*100,\"%\"))"
   ]
  },
  {
   "cell_type": "code",
   "execution_count": 15,
   "metadata": {},
   "outputs": [
    {
     "name": "stdout",
     "output_type": "stream",
     "text": [
      "WARNING:tensorflow:From c:\\Users\\QianZ\\miniconda3\\envs\\DS\\lib\\site-packages\\keras\\src\\backend.py:873: The name tf.get_default_graph is deprecated. Please use tf.compat.v1.get_default_graph instead.\n",
      "\n",
      "Model: \"sequential\"\n",
      "_________________________________________________________________\n",
      " Layer (type)                Output Shape              Param #   \n",
      "=================================================================\n",
      " dense (Dense)               (None, 5)                 1505      \n",
      "                                                                 \n",
      " dense_1 (Dense)             (None, 2)                 12        \n",
      "                                                                 \n",
      "=================================================================\n",
      "Total params: 1517 (5.93 KB)\n",
      "Trainable params: 1517 (5.93 KB)\n",
      "Non-trainable params: 0 (0.00 Byte)\n",
      "_________________________________________________________________\n"
     ]
    }
   ],
   "source": [
    "import tensorflow as tf\n",
    "EMBEDDING_SIZE = 300\n",
    "model = tf.keras.models.Sequential() # Create a sequential neural network model\n",
    "model.add(tf.keras.Input(shape=(EMBEDDING_SIZE,))) # The input size will be equal to the embedding size\n",
    "model.add(tf.keras.layers.Dense(5, activation='relu')) # 1st hidden layer has a size of 5 neurons\n",
    "model.add(tf.keras.layers.Dense(2, activation='softmax')) # Output layer has a size of 2 neurons\n",
    "model.summary() # Print a summary of the model"
   ]
  },
  {
   "cell_type": "code",
   "execution_count": 16,
   "metadata": {},
   "outputs": [
    {
     "name": "stdout",
     "output_type": "stream",
     "text": [
      "WARNING:tensorflow:From c:\\Users\\QianZ\\miniconda3\\envs\\DS\\lib\\site-packages\\keras\\src\\utils\\tf_utils.py:492: The name tf.ragged.RaggedTensorValue is deprecated. Please use tf.compat.v1.ragged.RaggedTensorValue instead.\n",
      "\n",
      "WARNING:tensorflow:From c:\\Users\\QianZ\\miniconda3\\envs\\DS\\lib\\site-packages\\keras\\src\\engine\\base_layer_utils.py:384: The name tf.executing_eagerly_outside_functions is deprecated. Please use tf.compat.v1.executing_eagerly_outside_functions instead.\n",
      "\n",
      "Max validation accuracy: 83.33%\n",
      "Max accuracy reached at epoch 336\n"
     ]
    },
    {
     "data": {
      "image/png": "[encoded data removed]",
      "text/plain": [
       "<Figure size 1200x600 with 2 Axes>"
      ]
     },
     "metadata": {},
     "output_type": "display_data"
    }
   ],
   "source": [
    "import matplotlib.pyplot as plt\n",
    "# Define Adam optimiser and set learning rate to 0.001\n",
    "opt = tf.keras.optimizers.Adam(learning_rate=0.001)\n",
    "# Compile model using sparse categorical cross entropy loss as loss function and the Adam optimiser\n",
    "model.compile(optimizer=opt, loss='sparse_categorical_crossentropy', metrics='accuracy')\n",
    "EPOCHS = 2000 # Train model for 2000 epochs\n",
    "# Convert data to numpy arrays\n",
    "X_train = np.array(training_features)\n",
    "y_train = np.array(training_labels)\n",
    "X_test = np.array(test_features)\n",
    "y_test = np.array(test_labels)\n",
    "# Train model and store the loss and the metrics for each epoch in the history variable\n",
    "history = model.fit(x=X_train, y=y_train, validation_data=(X_test,y_test),epochs=EPOCHS,verbose=0)\n",
    "# Plot training progress\n",
    "plt.style.use('ggplot')\n",
    "fig, (ax1, ax2) = plt.subplots(2, figsize=(12, 6), sharex=True)\n",
    "ax1.set_ylim([0, 1.01])\n",
    "ax1.plot(history.history['val_accuracy'],'b')\n",
    "ax1.set_ylabel(\"Accuracy\")\n",
    "ax1.plot(history.history['accuracy'],'r')\n",
    "ax1.legend(['Validation','Training'])\n",
    "ax2.set_ylim([0, 1])\n",
    "ax2.plot(history.history['val_loss'],'b')\n",
    "ax2.plot(history.history['loss'],'r')\n",
    "ax2.set_ylabel(\"Loss\")\n",
    "ax2.set_xlabel(\"Epochs\")\n",
    "ax2.legend(['Validation','Training'])\n",
    "\n",
    "print(\"Max validation accuracy: %.2f%s\" % (max(history.history['val_accuracy'])*100,\"%\"))\n",
    "for i in range(EPOCHS):\n",
    "    if(history.history['val_accuracy'][i] == max(history.history['val_accuracy'])):\n",
    "        print(\"Max accuracy reached at epoch\",i)\n",
    "        break"
   ]
  },
  {
   "cell_type": "markdown",
   "metadata": {},
   "source": [
    "# Exercise 6.1\n",
    "Using the word embeddings from testvectors.csv, compute the word embeddings of size k for each\n",
    " word in the text \"Once upon a time, my family was living in an ancient castle.\". Then compute\n",
    " the pairwise cosine distance between the words in the text and visualise them as a heatmap.\n",
    " Repeat this for k = 5, 50, 300. Ignore words for which an embedding is not available."
   ]
  },
  {
   "cell_type": "code",
   "execution_count": 22,
   "metadata": {},
   "outputs": [
    {
     "data": {
      "text/plain": [
       "[]"
      ]
     },
     "execution_count": 22,
     "metadata": {},
     "output_type": "execute_result"
    }
   ],
   "source": [
    "import numpy as np\n",
    "import matplotlib.pyplot as plt\n",
    "from scipy.spatial import distance\n",
    "\n",
    "text = \"Once upon a time, my family was living in an ancient castle.\"\n",
    "tokenized_text = text.lower().split()\n",
    "\n",
    "k_values = [5, 50, 300]\n",
    "word_embeddings = []\n",
    "\n",
    "# Compute word embeddings for each word in the text\n",
    "for word in tokenized_text:\n",
    "    if word in word_embeddings:\n",
    "        word_embedding = word_embeddings[word]\n",
    "        word_embeddings.append(word_embedding)\n",
    "\n",
    "\n",
    "word_embeddings\n",
    "# # Convert word_embeddings to a 2-dimensional array\n",
    "# word_embeddings = np.array(word_embeddings)\n",
    "\n",
    "# # Compute pairwise cosine distance between word embeddings\n",
    "# cosine_distances = distance.cdist(word_embeddings, word_embeddings, metric='cosine')\n",
    "\n",
    "# # Visualize pairwise cosine distance as a heatmap\n",
    "# fig, ax = plt.subplots()\n",
    "# heatmap = ax.imshow(cosine_distances, cmap='hot')\n",
    "# plt.colorbar(heatmap)\n",
    "# plt.xticks(np.arange(len(tokenized_text)), tokenized_text, rotation=45)\n",
    "# plt.yticks(np.arange(len(tokenized_text)), tokenized_text)\n",
    "# plt.title(\"Pairwise Cosine Distance Heatmap\")\n",
    "# plt.show()\n"
   ]
  },
  {
   "cell_type": "code",
   "execution_count": null,
   "metadata": {},
   "outputs": [],
   "source": []
  }
 ],
 "metadata": {
  "kernelspec": {
   "display_name": "DS",
   "language": "python",
   "name": "python3"
  },
  "language_info": {
   "codemirror_mode": {
    "name": "ipython",
    "version": 3
   },
   "file_extension": ".py",
   "mimetype": "text/x-python",
   "name": "python",
   "nbconvert_exporter": "python",
   "pygments_lexer": "ipython3",
   "version": "3.10.13"
  }
 },
 "nbformat": 4,
 "nbformat_minor": 2
}
