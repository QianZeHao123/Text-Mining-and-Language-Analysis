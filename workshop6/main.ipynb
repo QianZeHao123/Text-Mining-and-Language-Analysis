{
 "cells": [
  {
   "cell_type": "code",
   "execution_count": 2,
   "metadata": {},
   "outputs": [
    {
     "name": "stdout",
     "output_type": "stream",
     "text": [
      "     0         1         2         3         4         5         6    \\\n",
      "0    one  0.073525 -0.031703  0.054010 -0.040015 -0.011894  0.002958   \n",
      "1   time  0.061892  0.066106  0.026482 -0.122901  0.016603  0.024152   \n",
      "2  would -0.005455 -0.064055  0.106359  0.000271 -0.005658  0.017313   \n",
      "3   made -0.033224 -0.046773 -0.022644 -0.115277 -0.037984  0.109500   \n",
      "4   well  0.032183  0.058166  0.102063 -0.054714 -0.037364  0.013909   \n",
      "\n",
      "        7         8         9    ...       291       292       293       294  \\\n",
      "0 -0.065406  0.079166  0.099932  ...  0.048875  0.014754 -0.038729  0.033155   \n",
      "1 -0.057542  0.119501  0.033247  ... -0.043285  0.045578 -0.139174  0.109938   \n",
      "2 -0.030339  0.014298  0.030399  ... -0.029693  0.083669 -0.089212  0.063672   \n",
      "3 -0.138488  0.038567  0.001758  ...  0.005144  0.002312 -0.043491  0.091255   \n",
      "4  0.025827  0.072022 -0.050159  ...  0.017727  0.056166 -0.106694  0.046184   \n",
      "\n",
      "        295       296       297       298       299       300  \n",
      "0 -0.120390 -0.065746 -0.023745  0.012824  0.005162 -0.130008  \n",
      "1 -0.057847  0.010336  0.114048  0.042011  0.032165  0.051062  \n",
      "2 -0.048096  0.028711  0.032499  0.104135  0.001100  0.024307  \n",
      "3 -0.065307 -0.060637 -0.029168  0.034441  0.024149  0.003539  \n",
      "4 -0.091665 -0.088526  0.016668  0.061213 -0.015307 -0.076759  \n",
      "\n",
      "[5 rows x 301 columns] \n",
      "\n",
      "\n",
      "Totalwords: 155\n",
      "Dimensions: 300\n"
     ]
    }
   ],
   "source": [
    "import pandas as pd  # Import the pandas library\n",
    "# Read csv file. Indicate that there is no row with 1 column titles\n",
    "df = pd.read_csv('./data/testvectors.csv', header=None)\n",
    "print(df.head(5), \"\\n\")  # Printthefirst5rowsofthedataframe\n",
    "count_row = df.shape[0]  # Givesnumberofrows\n",
    "count_col = df.shape[1]  # Givesnumberofcolumns\n",
    "print(\"\\nTotalwords:\", count_row)\n",
    "print(\"Dimensions:\", count_col-1)  # Subtract1forthewordcolumn"
   ]
  },
  {
   "cell_type": "code",
   "execution_count": 3,
   "metadata": {},
   "outputs": [
    {
     "name": "stdout",
     "output_type": "stream",
     "text": [
      "['one', 'time', 'would', 'made', 'well', 'family', 'use', 'took', 'could', 'home', 'served', 'large', 'like', 'day', 'final', 'near', 'much', 'book', 'came', 'late', 'side', 'started', 'way', 'take', 'without', 'old', 'making', 'field', 'never', 'across', 'see', 'features', 'seen', 'mother', 'either', 'get', 'close', 'reached', 'white', 'change', 'female', 'beginning', 'allowed', 'night', 'week', 'natural', 'ran', 'thought', 'woman', 'room', 'nearly', 'sister', 'acquired', 'whether', 'ancient', 'actually', 'feet', 'bank', 'floor', 'occurred', 'stone', 'twice', 'visit', 'say', 'quite', 'castle', 'think', 'pop', 'shape', 'getting', 'reading', 'nothing', 'boy', 'standing', 'mind', 'ahead', 'weather', 'let', 'door', 'feel', 'step', 'eyes', 'hot', 'hair', 'moment', 'worth', 'afterwards', 'departure', 'shall', 'lay', 'passage', 'watch', 'looked', 'seemed', 'bed', 'sitting', 'pictures', 'feeling', 'hear', 'generations', 'trouble', 'warm', 'suddenly', 'considering', 'burning', 'remarkable', 'bore', 'pink', 'hanging', 'pleasure', 'shadow', 'peer', 'darkness', 'picking', 'tired', 'lamp', 'witch', 'conversations', 'ought', 'pile', 'rabbit', 'hedge', 'curiosity', 'stupid', 'jewels', 'dear', 'twenty-six', 'vaulted', 'awakened', 'wondered', 'bulky', 'frenzy', 'hooded', 'hurried', 'oh', 'fortunately', 'unbearable', 'sleepy', 'flashed', 'glittering', 'in', 'by', 'matted', 'the', 'dimmed', 'of', 'and', 'daisies', 'a', 'to', 'scurrying', 'for', 'crone', 'on', 'is']\n"
     ]
    }
   ],
   "source": [
    "# Convert thefirstcolumnofthedataframetoalistandstoretoa variable\n",
    "available_words = df[0].tolist()\n",
    "print(available_words)"
   ]
  },
  {
   "cell_type": "code",
   "execution_count": 4,
   "metadata": {},
   "outputs": [
    {
     "data": {
      "text/plain": [
       "155"
      ]
     },
     "execution_count": 4,
     "metadata": {},
     "output_type": "execute_result"
    }
   ],
   "source": []
  },
  {
   "cell_type": "code",
   "execution_count": null,
   "metadata": {},
   "outputs": [],
   "source": []
  }
 ],
 "metadata": {
  "kernelspec": {
   "display_name": "DS",
   "language": "python",
   "name": "python3"
  },
  "language_info": {
   "codemirror_mode": {
    "name": "ipython",
    "version": 3
   },
   "file_extension": ".py",
   "mimetype": "text/x-python",
   "name": "python",
   "nbconvert_exporter": "python",
   "pygments_lexer": "ipython3",
   "version": "3.10.13"
  }
 },
 "nbformat": 4,
 "nbformat_minor": 2
}
