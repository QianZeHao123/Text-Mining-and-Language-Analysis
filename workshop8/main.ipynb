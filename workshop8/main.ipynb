{
 "cells": [
  {
   "cell_type": "code",
   "execution_count": 20,
   "metadata": {},
   "outputs": [
    {
     "data": {
      "text/html": [
       "<div>\n",
       "<style scoped>\n",
       "    .dataframe tbody tr th:only-of-type {\n",
       "        vertical-align: middle;\n",
       "    }\n",
       "\n",
       "    .dataframe tbody tr th {\n",
       "        vertical-align: top;\n",
       "    }\n",
       "\n",
       "    .dataframe thead th {\n",
       "        text-align: right;\n",
       "    }\n",
       "</style>\n",
       "<table border=\"1\" class=\"dataframe\">\n",
       "  <thead>\n",
       "    <tr style=\"text-align: right;\">\n",
       "      <th></th>\n",
       "      <th>Unnamed: 0</th>\n",
       "      <th>title</th>\n",
       "      <th>text</th>\n",
       "      <th>label</th>\n",
       "    </tr>\n",
       "  </thead>\n",
       "  <tbody>\n",
       "    <tr>\n",
       "      <th>0</th>\n",
       "      <td>8476</td>\n",
       "      <td>You Can Smell Hillary’s Fear</td>\n",
       "      <td>Daniel Greenfield, a Shillman Journalism Fello...</td>\n",
       "      <td>FAKE</td>\n",
       "    </tr>\n",
       "    <tr>\n",
       "      <th>1</th>\n",
       "      <td>10294</td>\n",
       "      <td>Watch The Exact Moment Paul Ryan Committed Pol...</td>\n",
       "      <td>Google Pinterest Digg Linkedin Reddit Stumbleu...</td>\n",
       "      <td>FAKE</td>\n",
       "    </tr>\n",
       "    <tr>\n",
       "      <th>2</th>\n",
       "      <td>3608</td>\n",
       "      <td>Kerry to go to Paris in gesture of sympathy</td>\n",
       "      <td>U.S. Secretary of State John F. Kerry said Mon...</td>\n",
       "      <td>REAL</td>\n",
       "    </tr>\n",
       "    <tr>\n",
       "      <th>3</th>\n",
       "      <td>10142</td>\n",
       "      <td>Bernie supporters on Twitter erupt in anger ag...</td>\n",
       "      <td>— Kaydee King (@KaydeeKing) November 9, 2016 T...</td>\n",
       "      <td>FAKE</td>\n",
       "    </tr>\n",
       "    <tr>\n",
       "      <th>4</th>\n",
       "      <td>875</td>\n",
       "      <td>The Battle of New York: Why This Primary Matters</td>\n",
       "      <td>It's primary day in New York and front-runners...</td>\n",
       "      <td>REAL</td>\n",
       "    </tr>\n",
       "  </tbody>\n",
       "</table>\n",
       "</div>"
      ],
      "text/plain": [
       "   Unnamed: 0                                              title  \\\n",
       "0        8476                       You Can Smell Hillary’s Fear   \n",
       "1       10294  Watch The Exact Moment Paul Ryan Committed Pol...   \n",
       "2        3608        Kerry to go to Paris in gesture of sympathy   \n",
       "3       10142  Bernie supporters on Twitter erupt in anger ag...   \n",
       "4         875   The Battle of New York: Why This Primary Matters   \n",
       "\n",
       "                                                text label  \n",
       "0  Daniel Greenfield, a Shillman Journalism Fello...  FAKE  \n",
       "1  Google Pinterest Digg Linkedin Reddit Stumbleu...  FAKE  \n",
       "2  U.S. Secretary of State John F. Kerry said Mon...  REAL  \n",
       "3  — Kaydee King (@KaydeeKing) November 9, 2016 T...  FAKE  \n",
       "4  It's primary day in New York and front-runners...  REAL  "
      ]
     },
     "execution_count": 20,
     "metadata": {},
     "output_type": "execute_result"
    }
   ],
   "source": [
    "import pandas as pd\n",
    "df = pd.read_csv(\"./news.csv\")\n",
    "df.head(5)"
   ]
  },
  {
   "cell_type": "code",
   "execution_count": 21,
   "metadata": {},
   "outputs": [
    {
     "data": {
      "text/html": [
       "<div>\n",
       "<style scoped>\n",
       "    .dataframe tbody tr th:only-of-type {\n",
       "        vertical-align: middle;\n",
       "    }\n",
       "\n",
       "    .dataframe tbody tr th {\n",
       "        vertical-align: top;\n",
       "    }\n",
       "\n",
       "    .dataframe thead th {\n",
       "        text-align: right;\n",
       "    }\n",
       "</style>\n",
       "<table border=\"1\" class=\"dataframe\">\n",
       "  <thead>\n",
       "    <tr style=\"text-align: right;\">\n",
       "      <th></th>\n",
       "      <th>alltext</th>\n",
       "      <th>label</th>\n",
       "    </tr>\n",
       "  </thead>\n",
       "  <tbody>\n",
       "    <tr>\n",
       "      <th>0</th>\n",
       "      <td>You Can Smell Hillary’s Fear. Daniel Greenfiel...</td>\n",
       "      <td>1</td>\n",
       "    </tr>\n",
       "    <tr>\n",
       "      <th>1</th>\n",
       "      <td>Watch The Exact Moment Paul Ryan Committed Pol...</td>\n",
       "      <td>1</td>\n",
       "    </tr>\n",
       "    <tr>\n",
       "      <th>2</th>\n",
       "      <td>Kerry to go to Paris in gesture of sympathy. U...</td>\n",
       "      <td>0</td>\n",
       "    </tr>\n",
       "    <tr>\n",
       "      <th>3</th>\n",
       "      <td>Bernie supporters on Twitter erupt in anger ag...</td>\n",
       "      <td>1</td>\n",
       "    </tr>\n",
       "    <tr>\n",
       "      <th>4</th>\n",
       "      <td>The Battle of New York: Why This Primary Matte...</td>\n",
       "      <td>0</td>\n",
       "    </tr>\n",
       "  </tbody>\n",
       "</table>\n",
       "</div>"
      ],
      "text/plain": [
       "                                             alltext  label\n",
       "0  You Can Smell Hillary’s Fear. Daniel Greenfiel...      1\n",
       "1  Watch The Exact Moment Paul Ryan Committed Pol...      1\n",
       "2  Kerry to go to Paris in gesture of sympathy. U...      0\n",
       "3  Bernie supporters on Twitter erupt in anger ag...      1\n",
       "4  The Battle of New York: Why This Primary Matte...      0"
      ]
     },
     "execution_count": 21,
     "metadata": {},
     "output_type": "execute_result"
    }
   ],
   "source": [
    "# Set value of label to 1 if FAKE, else to 0 for REAL\n",
    "df['label'] = (df['label'] == 'FAKE').astype('int')\n",
    "# Concatenate title and text into column alltext\n",
    "df['alltext'] = df['title'] + \". \" + df['text']\n",
    "# Transform the dataset to contain only the label and all text columns\n",
    "df = df.reindex(columns=['alltext', 'label'])\n",
    "df.head(5)  # Show first 5 rows in dataset"
   ]
  },
  {
   "cell_type": "code",
   "execution_count": 22,
   "metadata": {},
   "outputs": [
    {
     "name": "stdout",
     "output_type": "stream",
     "text": [
      "Samples: 6327\n",
      "Labels: 6327 \n",
      "\n",
      "you can smell hillary’s fear. daniel greenfield, a shillman journalism fellow at the freedom center, is a new york writer focusing on radical islam. \n",
      "in the final stretch of the election, hillary rodham clinton has gone to war with the fbi. \n",
      "the word “unprecedented” has been thrown around so often this election that it ought to be retired. but it’s still unprecedented for the nominee of a major political party to go war with the fbi. \n",
      "but that’s exactly what hillary and her people have done. coma patients just waking up now and watching an hour of cnn from their hospital beds would assume that fbi director james comey is hillary’s opponent in this election. \n",
      "the fbi is under attack by everyone from obama to cnn. hillary’s people have circulated a letter attacking comey. there are currently more media hit pieces lambasting him than targeting trump. it wouldn’t be too surprising if the clintons or their allies were to start running attack ads against the fbi. \n",
      "the fbi’s leadership is bei\n"
     ]
    }
   ],
   "source": [
    "# Remove texts that are less than 50 characters long\n",
    "df.drop(df[df.alltext.str.len() < 50].index, inplace=True)\n",
    "df = df.reset_index(drop=True)\n",
    "\n",
    "\n",
    "def convert_to_lowercase(text):  # Convert all characters to lowercase\n",
    "    return text.lower()\n",
    "\n",
    "\n",
    "# Convert text to lowercase\n",
    "df['alltext'] = df['alltext'].apply(convert_to_lowercase)\n",
    "print(\"Samples:\", len(df['alltext']))\n",
    "print(\"Labels:\", len(df['label']), \"\\n\")\n",
    "# Print the first 1000 characters of the first text as an example\n",
    "print(df['alltext'].iloc[0][0:1000])\n",
    "# Save processed dataset to csv file\n",
    "df.to_csv('fakenews_processed.csv', index=False)"
   ]
  },
  {
   "cell_type": "code",
   "execution_count": 4,
   "metadata": {},
   "outputs": [],
   "source": [
    "from sklearn.model_selection import train_test_split\n",
    "# Split dataset into 30% for test and 70% for training\n",
    "train, test = train_test_split(df, test_size=0.30, random_state=42)\n",
    "X_train = train[\"alltext\"].values  # Get the documents for training\n",
    "Y_train = train[\"label\"].values  # Get the labels for training\n",
    "X_test = test[\"alltext\"].values  # Get the documents for testing\n",
    "Y_test = test[\"label\"].values  # Get the labels for testing"
   ]
  },
  {
   "cell_type": "code",
   "execution_count": 5,
   "metadata": {},
   "outputs": [],
   "source": [
    "import os\n",
    "os.environ['TF_CPP_MIN_LOG_LEVEL'] = '3' # Reduce the number of shown warnings"
   ]
  },
  {
   "cell_type": "code",
   "execution_count": 6,
   "metadata": {},
   "outputs": [
    {
     "name": "stdout",
     "output_type": "stream",
     "text": [
      "WARNING:tensorflow:From c:\\Users\\QianZ\\miniconda3\\envs\\DS\\lib\\site-packages\\keras\\src\\losses.py:2976: The name tf.losses.sparse_softmax_cross_entropy is deprecated. Please use tf.compat.v1.losses.sparse_softmax_cross_entropy instead.\n",
      "\n",
      "WARNING:tensorflow:From c:\\Users\\QianZ\\miniconda3\\envs\\DS\\lib\\site-packages\\keras\\src\\backend.py:873: The name tf.get_default_graph is deprecated. Please use tf.compat.v1.get_default_graph instead.\n",
      "\n",
      "WARNING:tensorflow:From c:\\Users\\QianZ\\miniconda3\\envs\\DS\\lib\\site-packages\\keras\\src\\utils\\tf_utils.py:492: The name tf.ragged.RaggedTensorValue is deprecated. Please use tf.compat.v1.ragged.RaggedTensorValue instead.\n",
      "\n",
      "Vocabulary size: 5000 words\n"
     ]
    }
   ],
   "source": [
    "import tensorflow as tf\n",
    "from keras.layers import TextVectorization\n",
    "# The maximum number of words to be used (most frequent)\n",
    "MAX_VOCABULARY_WORDS = 5000\n",
    "# Number of words in each text. Sequence length to pad the outputs to.\n",
    "MAX_SEQUENCE_LENGTH = 200\n",
    "EMBEDDING_DIM = 10  # Size of the word embedding to be used\n",
    "# Create a preprocessing layer which maps text features to integer sequences\n",
    "vectorize_layer = TextVectorization(\n",
    "    max_tokens=MAX_VOCABULARY_WORDS,  # Maximum size of the vocabulary for this layer\n",
    "    output_mode='int',  # Represent each word in the vocabulary with an integer\n",
    "    output_sequence_length=MAX_SEQUENCE_LENGTH)  # Pad the sequence length to size MAX_SEQUENCE_LENGTH\n",
    "# Computes a vocabulary of string terms from tokens in a dataset.\n",
    "vectorize_layer.adapt(X_train)\n",
    "vocabulary = vectorize_layer.get_vocabulary()  # Get the vocabulary\n",
    "print(\"Vocabulary size: \" + str(len(vocabulary)) + \" words\")"
   ]
  },
  {
   "cell_type": "code",
   "execution_count": 7,
   "metadata": {},
   "outputs": [
    {
     "name": "stdout",
     "output_type": "stream",
     "text": [
      "Model: \"MyLSTM\"\n",
      "_________________________________________________________________\n",
      " Layer (type)                Output Shape              Param #   \n",
      "=================================================================\n",
      " text_vectorization (TextVe  (None, 200)               0         \n",
      " ctorization)                                                    \n",
      "                                                                 \n",
      " embedding (Embedding)       (None, 200, 10)           50000     \n",
      "                                                                 \n",
      " bidirectional (Bidirection  (None, 200, 32)           3456      \n",
      " al)                                                             \n",
      "                                                                 \n",
      " bidirectional_1 (Bidirecti  (None, 32)                6272      \n",
      " onal)                                                           \n",
      "                                                                 \n",
      " dense (Dense)               (None, 1)                 33        \n",
      "                                                                 \n",
      "=================================================================\n",
      "Total params: 59761 (233.44 KB)\n",
      "Trainable params: 59761 (233.44 KB)\n",
      "Non-trainable params: 0 (0.00 Byte)\n",
      "_________________________________________________________________\n"
     ]
    }
   ],
   "source": [
    "from keras import Sequential\n",
    "from keras.layers import Input, Embedding, LSTM, Dense, Bidirectional\n",
    "model = Sequential(name=\"MyLSTM\")\n",
    "model.add(Input(shape=(1,), dtype=tf.string))\n",
    "\n",
    "model.add(vectorize_layer)\n",
    "model.add(Embedding(input_dim=MAX_VOCABULARY_WORDS,  # Size of the vocabulary\n",
    "                    output_dim=EMBEDDING_DIM,  # Size of the word embedding\n",
    "                    input_length=MAX_SEQUENCE_LENGTH))  # Length of input sequences\n",
    "# Set return_sequences=True if you want additional LSTM layer\n",
    "model.add(Bidirectional(LSTM(16, return_sequences=True)))\n",
    "model.add(Bidirectional(LSTM(16, go_backwards=True, dropout=0.2)))\n",
    "model.add(Dense(1, activation='sigmoid'))\n",
    "model.summary()  # Print model summary"
   ]
  },
  {
   "cell_type": "code",
   "execution_count": 8,
   "metadata": {},
   "outputs": [],
   "source": [
    "from keras.optimizers import Adam\n",
    "EPOCHS = 50\n",
    "BATCH_SIZE = 64\n",
    "LEARNING_RATE = 0.01\n",
    "# Initialise Adam optimiser with a leanring rate of 0.01\n",
    "opt = Adam(learning_rate=LEARNING_RATE)\n",
    "model.compile(loss='binary_crossentropy', optimizer=opt,\n",
    "              metrics=['accuracy'])  # Initialise model"
   ]
  },
  {
   "cell_type": "code",
   "execution_count": 9,
   "metadata": {},
   "outputs": [
    {
     "name": "stdout",
     "output_type": "stream",
     "text": [
      "Epoch 1/50\n",
      "WARNING:tensorflow:From c:\\Users\\QianZ\\miniconda3\\envs\\DS\\lib\\site-packages\\keras\\src\\engine\\base_layer_utils.py:384: The name tf.executing_eagerly_outside_functions is deprecated. Please use tf.compat.v1.executing_eagerly_outside_functions instead.\n",
      "\n",
      "63/63 [==============================] - 9s 78ms/step - loss: 0.3946 - accuracy: 0.8148 - val_loss: 0.2725 - val_accuracy: 0.8781\n",
      "Epoch 2/50\n",
      "63/63 [==============================] - 4s 64ms/step - loss: 0.1491 - accuracy: 0.9458 - val_loss: 0.2451 - val_accuracy: 0.8962\n",
      "Epoch 3/50\n",
      "63/63 [==============================] - 4s 62ms/step - loss: 0.0620 - accuracy: 0.9817 - val_loss: 0.3103 - val_accuracy: 0.9007\n",
      "Epoch 4/50\n",
      "63/63 [==============================] - 4s 64ms/step - loss: 0.0235 - accuracy: 0.9940 - val_loss: 0.3653 - val_accuracy: 0.8916\n",
      "Epoch 5/50\n",
      "63/63 [==============================] - 4s 62ms/step - loss: 0.0114 - accuracy: 0.9975 - val_loss: 0.4159 - val_accuracy: 0.8984\n",
      "Epoch 6/50\n",
      "63/63 [==============================] - 4s 63ms/step - loss: 0.0058 - accuracy: 0.9992 - val_loss: 0.4716 - val_accuracy: 0.9052\n",
      "Epoch 7/50\n",
      "63/63 [==============================] - 4s 63ms/step - loss: 0.0025 - accuracy: 0.9995 - val_loss: 0.4690 - val_accuracy: 0.8984\n",
      "Epoch 8/50\n",
      "63/63 [==============================] - 4s 63ms/step - loss: 0.0284 - accuracy: 0.9920 - val_loss: 0.4413 - val_accuracy: 0.8871\n",
      "Epoch 9/50\n",
      "63/63 [==============================] - 4s 63ms/step - loss: 0.0405 - accuracy: 0.9849 - val_loss: 0.4698 - val_accuracy: 0.8962\n",
      "Epoch 10/50\n",
      "63/63 [==============================] - 4s 64ms/step - loss: 0.0153 - accuracy: 0.9955 - val_loss: 0.7008 - val_accuracy: 0.8668\n"
     ]
    }
   ],
   "source": [
    "from keras.callbacks import EarlyStopping\n",
    "early = EarlyStopping(monitor=\"val_accuracy\", patience=4,\n",
    "                      restore_best_weights=True, mode=\"auto\")\n",
    "history = model.fit(X_train, Y_train,\n",
    "                    epochs=EPOCHS, batch_size=BATCH_SIZE,\n",
    "                    validation_split=0.1,  # Use 10% of training data for validation\n",
    "                    callbacks=[early]\n",
    "                    )"
   ]
  },
  {
   "cell_type": "code",
   "execution_count": 10,
   "metadata": {},
   "outputs": [
    {
     "data": {
      "image/png": "[encoded data removed]",
      "text/plain": [
       "<Figure size 640x480 with 1 Axes>"
      ]
     },
     "metadata": {},
     "output_type": "display_data"
    }
   ],
   "source": [
    "import matplotlib.pyplot as plt\n",
    "plt.title('Loss')\n",
    "plt.plot(history.history['loss'], label='training')\n",
    "plt.plot(history.history['val_loss'], label='validation')\n",
    "plt.ylim(bottom=0.0)\n",
    "plt.legend()\n",
    "plt.show()"
   ]
  },
  {
   "cell_type": "code",
   "execution_count": 11,
   "metadata": {},
   "outputs": [
    {
     "data": {
      "image/png": "[encoded data removed]",
      "text/plain": [
       "<Figure size 640x480 with 1 Axes>"
      ]
     },
     "metadata": {},
     "output_type": "display_data"
    }
   ],
   "source": [
    "plt.title('Accuracy')\n",
    "plt.plot(history.history['accuracy'], label='training')\n",
    "plt.plot(history.history['val_accuracy'], label='validation')\n",
    "plt.ylim(bottom=0.0, top=1.01)\n",
    "plt.legend()\n",
    "plt.show()"
   ]
  },
  {
   "cell_type": "code",
   "execution_count": 12,
   "metadata": {},
   "outputs": [
    {
     "name": "stdout",
     "output_type": "stream",
     "text": [
      "60/60 [==============================] - 2s 18ms/step\n",
      "Predicted values:\n",
      "[[9.9999738e-01]\n",
      " [9.9820364e-01]\n",
      " [9.9591124e-01]\n",
      " ...\n",
      " [9.9999636e-01]\n",
      " [9.9376339e-01]\n",
      " [1.2815394e-05]]\n",
      "\n",
      "Rounded values:\n",
      "[[1]\n",
      " [1]\n",
      " [1]\n",
      " ...\n",
      " [1]\n",
      " [1]\n",
      " [0]]\n"
     ]
    }
   ],
   "source": [
    "# Use model to predict the class of the documents in the test set\n",
    "pred = model.predict(X_test)\n",
    "# Print numpy array containing the predicted class labels\n",
    "print(\"Predicted values:\\n\" + str(pred))\n",
    "# Use the numpy.round() function to round the predictions to the nearest integer\n",
    "pred = pred.round()\n",
    "pred = pred.astype(int)  # Convert predicted values to integers\n",
    "print(\"\\nRounded values:\\n\" + str(pred))"
   ]
  },
  {
   "cell_type": "code",
   "execution_count": 13,
   "metadata": {},
   "outputs": [
    {
     "name": "stdout",
     "output_type": "stream",
     "text": [
      "              precision    recall  f1-score   support\n",
      "\n",
      "           0       0.92      0.90      0.91       949\n",
      "           1       0.90      0.92      0.91       950\n",
      "\n",
      "    accuracy                           0.91      1899\n",
      "   macro avg       0.91      0.91      0.91      1899\n",
      "weighted avg       0.91      0.91      0.91      1899\n",
      "\n"
     ]
    }
   ],
   "source": [
    "from sklearn.metrics import classification_report\n",
    "print(classification_report(Y_test, pred))"
   ]
  },
  {
   "cell_type": "code",
   "execution_count": 14,
   "metadata": {},
   "outputs": [
    {
     "name": "stdout",
     "output_type": "stream",
     "text": [
      "1/1 [==============================] - 0s 45ms/step\n",
      "\n",
      "the earth is not flat: FAKE\n"
     ]
    }
   ],
   "source": [
    "labels = {1: \"FAKE\", 0: \"REAL\"}\n",
    "text = \"the earth is not flat\"\n",
    "pred = model.predict([text])\n",
    "pred = pred[0][0].round().astype(int)\n",
    "print(\"\\n\" + text + \": \" + labels[pred])"
   ]
  },
  {
   "cell_type": "code",
   "execution_count": 15,
   "metadata": {},
   "outputs": [],
   "source": [
    "import pickle\n",
    "pickle.dump(model, open('mylstm.pkl', 'wb'))"
   ]
  },
  {
   "cell_type": "code",
   "execution_count": 16,
   "metadata": {},
   "outputs": [
    {
     "name": "stdout",
     "output_type": "stream",
     "text": [
      "60/60 [==============================] - 2s 18ms/step\n",
      "Predicted values:\n",
      "[[9.9999738e-01]\n",
      " [9.9820364e-01]\n",
      " [9.9591124e-01]\n",
      " ...\n",
      " [9.9999636e-01]\n",
      " [9.9376339e-01]\n",
      " [1.2815394e-05]]\n",
      "\n",
      "Rounded values:\n",
      "[[1]\n",
      " [1]\n",
      " [1]\n",
      " ...\n",
      " [1]\n",
      " [1]\n",
      " [0]]\n",
      "              precision    recall  f1-score   support\n",
      "\n",
      "           0       0.92      0.90      0.91       949\n",
      "           1       0.90      0.92      0.91       950\n",
      "\n",
      "    accuracy                           0.91      1899\n",
      "   macro avg       0.91      0.91      0.91      1899\n",
      "weighted avg       0.91      0.91      0.91      1899\n",
      "\n"
     ]
    }
   ],
   "source": [
    "loaded_model = pickle.load(open('mylstm.pkl', 'rb'))\n",
    "new_pred = loaded_model.predict(X_test)\n",
    "# Print numpy array containing the predicted class labels\n",
    "print(\"Predicted values:\\n\" + str(new_pred))\n",
    "# Use the numpy.round() function to round teh predictions to the nearest integer\n",
    "new_pred = new_pred.round()\n",
    "new_pred = new_pred.astype(int) # Convert predicted values to integers\n",
    "print(\"\\nRounded values:\\n\" + str(new_pred))\n",
    "print(classification_report(Y_test,new_pred))"
   ]
  },
  {
   "cell_type": "markdown",
   "metadata": {},
   "source": [
    "# Exercise8.1\n",
    "\n",
    "Create a non-bidirectional LSTM model with a single LSTM layer with 32 units. Train it by\n",
    "keeping all hyperparameters and training settings the same as for the model above. Plot the loss\n",
    "and accuracy and compare them with the model above."
   ]
  },
  {
   "cell_type": "code",
   "execution_count": 17,
   "metadata": {},
   "outputs": [
    {
     "name": "stdout",
     "output_type": "stream",
     "text": [
      "Model: \"NonBidirectionalLSTM\"\n",
      "_________________________________________________________________\n",
      " Layer (type)                Output Shape              Param #   \n",
      "=================================================================\n",
      " text_vectorization (TextVe  (None, 200)               0         \n",
      " ctorization)                                                    \n",
      "                                                                 \n",
      " embedding_1 (Embedding)     (None, 200, 10)           50000     \n",
      "                                                                 \n",
      " lstm_2 (LSTM)               (None, 32)                5504      \n",
      "                                                                 \n",
      " dense_1 (Dense)             (None, 1)                 33        \n",
      "                                                                 \n",
      "=================================================================\n",
      "Total params: 55537 (216.94 KB)\n",
      "Trainable params: 55537 (216.94 KB)\n",
      "Non-trainable params: 0 (0.00 Byte)\n",
      "_________________________________________________________________\n"
     ]
    }
   ],
   "source": [
    "model = Sequential(name=\"NonBidirectionalLSTM\")\n",
    "model.add(Input(shape=(1,), dtype=tf.string))\n",
    "model.add(vectorize_layer)\n",
    "model.add(Embedding(input_dim=MAX_VOCABULARY_WORDS,\n",
    "                    output_dim=EMBEDDING_DIM,\n",
    "                    input_length=MAX_SEQUENCE_LENGTH))\n",
    "model.add(LSTM(32))\n",
    "model.add(Dense(1, activation='sigmoid'))\n",
    "model.summary()\n"
   ]
  },
  {
   "cell_type": "markdown",
   "metadata": {},
   "source": [
    "# Exercise8.2\n",
    "Pre-process the dataset again in order to remove punctuation and stop words. Retrain the LSTM model from 8.2.2 using the new pre-processed dataset and compare its performance with when punctuation and stopwords are not removed."
   ]
  },
  {
   "cell_type": "code",
   "execution_count": 26,
   "metadata": {},
   "outputs": [
    {
     "name": "stderr",
     "output_type": "stream",
     "text": [
      "[nltk_data] Downloading package stopwords to\n",
      "[nltk_data]     C:\\Users\\QianZ\\AppData\\Roaming\\nltk_data...\n",
      "[nltk_data]   Package stopwords is already up-to-date!\n"
     ]
    }
   ],
   "source": [
    "import nltk\n",
    "from nltk.corpus import stopwords\n",
    "from nltk.tokenize import word_tokenize\n",
    "import string\n",
    "\n",
    "# Download stopwords if not already downloaded\n",
    "nltk.download('stopwords')\n",
    "\n",
    "# Remove punctuation and stopwords from the text\n",
    "def preprocess_text(text):\n",
    "    # Tokenize the text into words\n",
    "    tokens = word_tokenize(text)\n",
    "    \n",
    "    # Remove punctuation\n",
    "    punctuation = string.punctuation\n",
    "    punctuation = ''.join([punctuation, '`', \"'\",\"‘\"])\n",
    "\n",
    "    tokens = [word for word in tokens if word not in string.punctuation]\n",
    "    \n",
    "    # Remove stopwords\n",
    "    stop_words = set(stopwords.words('english'))\n",
    "    tokens = [word for word in tokens if word.lower() not in stop_words]\n",
    "    \n",
    "    # Join the tokens back into a single string\n",
    "    preprocessed_text = ' '.join(tokens)\n",
    "    \n",
    "    return preprocessed_text\n",
    "\n",
    "# Apply the pre-processing to the 'alltext' column in the dataframe\n",
    "df_new = df.copy()\n",
    "df_new['alltext'] = df_new['alltext'].apply(preprocess_text)\n"
   ]
  },
  {
   "cell_type": "code",
   "execution_count": 27,
   "metadata": {},
   "outputs": [
    {
     "data": {
      "text/html": [
       "<div>\n",
       "<style scoped>\n",
       "    .dataframe tbody tr th:only-of-type {\n",
       "        vertical-align: middle;\n",
       "    }\n",
       "\n",
       "    .dataframe tbody tr th {\n",
       "        vertical-align: top;\n",
       "    }\n",
       "\n",
       "    .dataframe thead th {\n",
       "        text-align: right;\n",
       "    }\n",
       "</style>\n",
       "<table border=\"1\" class=\"dataframe\">\n",
       "  <thead>\n",
       "    <tr style=\"text-align: right;\">\n",
       "      <th></th>\n",
       "      <th>alltext</th>\n",
       "      <th>label</th>\n",
       "    </tr>\n",
       "  </thead>\n",
       "  <tbody>\n",
       "    <tr>\n",
       "      <th>0</th>\n",
       "      <td>you can smell hillary’s fear. daniel greenfiel...</td>\n",
       "      <td>1</td>\n",
       "    </tr>\n",
       "    <tr>\n",
       "      <th>1</th>\n",
       "      <td>watch the exact moment paul ryan committed pol...</td>\n",
       "      <td>1</td>\n",
       "    </tr>\n",
       "    <tr>\n",
       "      <th>2</th>\n",
       "      <td>kerry to go to paris in gesture of sympathy. u...</td>\n",
       "      <td>0</td>\n",
       "    </tr>\n",
       "    <tr>\n",
       "      <th>3</th>\n",
       "      <td>bernie supporters on twitter erupt in anger ag...</td>\n",
       "      <td>1</td>\n",
       "    </tr>\n",
       "    <tr>\n",
       "      <th>4</th>\n",
       "      <td>the battle of new york: why this primary matte...</td>\n",
       "      <td>0</td>\n",
       "    </tr>\n",
       "    <tr>\n",
       "      <th>...</th>\n",
       "      <td>...</td>\n",
       "      <td>...</td>\n",
       "    </tr>\n",
       "    <tr>\n",
       "      <th>6322</th>\n",
       "      <td>state department says it can't find emails fro...</td>\n",
       "      <td>0</td>\n",
       "    </tr>\n",
       "    <tr>\n",
       "      <th>6323</th>\n",
       "      <td>the ‘p’ in pbs should stand for ‘plutocratic’ ...</td>\n",
       "      <td>1</td>\n",
       "    </tr>\n",
       "    <tr>\n",
       "      <th>6324</th>\n",
       "      <td>anti-trump protesters are tools of the oligarc...</td>\n",
       "      <td>1</td>\n",
       "    </tr>\n",
       "    <tr>\n",
       "      <th>6325</th>\n",
       "      <td>in ethiopia, obama seeks progress on peace, se...</td>\n",
       "      <td>0</td>\n",
       "    </tr>\n",
       "    <tr>\n",
       "      <th>6326</th>\n",
       "      <td>jeb bush is suddenly attacking trump. here's w...</td>\n",
       "      <td>0</td>\n",
       "    </tr>\n",
       "  </tbody>\n",
       "</table>\n",
       "<p>6327 rows × 2 columns</p>\n",
       "</div>"
      ],
      "text/plain": [
       "                                                alltext  label\n",
       "0     you can smell hillary’s fear. daniel greenfiel...      1\n",
       "1     watch the exact moment paul ryan committed pol...      1\n",
       "2     kerry to go to paris in gesture of sympathy. u...      0\n",
       "3     bernie supporters on twitter erupt in anger ag...      1\n",
       "4     the battle of new york: why this primary matte...      0\n",
       "...                                                 ...    ...\n",
       "6322  state department says it can't find emails fro...      0\n",
       "6323  the ‘p’ in pbs should stand for ‘plutocratic’ ...      1\n",
       "6324  anti-trump protesters are tools of the oligarc...      1\n",
       "6325  in ethiopia, obama seeks progress on peace, se...      0\n",
       "6326  jeb bush is suddenly attacking trump. here's w...      0\n",
       "\n",
       "[6327 rows x 2 columns]"
      ]
     },
     "execution_count": 27,
     "metadata": {},
     "output_type": "execute_result"
    }
   ],
   "source": [
    "df"
   ]
  },
  {
   "cell_type": "markdown",
   "metadata": {},
   "source": [
    "# Exercise 8.3\n",
    "\n",
    "Train the model from Exercise 8.1 using the dataset from exercise 8.2 and the same hyperparameters and settings. Compare the performance to the one achieved in Exercise 8.1."
   ]
  },
  {
   "cell_type": "code",
   "execution_count": 28,
   "metadata": {},
   "outputs": [
    {
     "name": "stdout",
     "output_type": "stream",
     "text": [
      "Model: \"NonBidirectionalLSTM\"\n",
      "_________________________________________________________________\n",
      " Layer (type)                Output Shape              Param #   \n",
      "=================================================================\n",
      " text_vectorization (TextVe  (None, 200)               0         \n",
      " ctorization)                                                    \n",
      "                                                                 \n",
      " embedding_2 (Embedding)     (None, 200, 10)           50000     \n",
      "                                                                 \n",
      " lstm_3 (LSTM)               (None, 32)                5504      \n",
      "                                                                 \n",
      " dense_2 (Dense)             (None, 1)                 33        \n",
      "                                                                 \n",
      "=================================================================\n",
      "Total params: 55537 (216.94 KB)\n",
      "Trainable params: 55537 (216.94 KB)\n",
      "Non-trainable params: 0 (0.00 Byte)\n",
      "_________________________________________________________________\n",
      "Epoch 1/50\n",
      "63/63 [==============================] - 4s 38ms/step - loss: 0.6009 - accuracy: 0.6949 - val_loss: 0.4798 - val_accuracy: 0.7946\n",
      "Epoch 2/50\n",
      "63/63 [==============================] - 2s 33ms/step - loss: 0.5413 - accuracy: 0.7666 - val_loss: 0.6263 - val_accuracy: 0.6569\n",
      "Epoch 3/50\n",
      "63/63 [==============================] - 2s 33ms/step - loss: 0.4914 - accuracy: 0.7752 - val_loss: 0.4931 - val_accuracy: 0.7856\n",
      "Epoch 4/50\n",
      "63/63 [==============================] - 2s 33ms/step - loss: 0.3834 - accuracy: 0.8371 - val_loss: 0.5347 - val_accuracy: 0.7810\n",
      "Epoch 5/50\n",
      "63/63 [==============================] - 2s 33ms/step - loss: 0.3768 - accuracy: 0.8404 - val_loss: 0.5818 - val_accuracy: 0.7088\n",
      "60/60 [==============================] - 1s 11ms/step - loss: 0.5162 - accuracy: 0.7683\n",
      "Test Loss: 0.5162139534950256\n",
      "Test Accuracy: 0.7682991027832031\n",
      "Performance comparison:\n",
      "Original Model - Test Loss: 0.7007990479469299\n",
      "Original Model - Test Accuracy: 0.8668171763420105\n",
      "New Model - Test Loss: 0.5162139534950256\n",
      "New Model - Test Accuracy: 0.7682991027832031\n"
     ]
    }
   ],
   "source": [
    "# Split the preprocessed dataset into training and testing sets\n",
    "X_train_new, X_test_new, Y_train_new, Y_test_new = train_test_split(df_new['alltext'].values, df_new['label'].values, test_size=0.30, random_state=42)\n",
    "\n",
    "# Create a non-bidirectional LSTM model with a single LSTM layer with 32 units\n",
    "model_new = Sequential(name=\"NonBidirectionalLSTM\")\n",
    "model_new.add(Input(shape=(1,), dtype=tf.string))\n",
    "model_new.add(vectorize_layer)\n",
    "model_new.add(Embedding(input_dim=MAX_VOCABULARY_WORDS, output_dim=EMBEDDING_DIM, input_length=MAX_SEQUENCE_LENGTH))\n",
    "model_new.add(LSTM(32))\n",
    "model_new.add(Dense(1, activation='sigmoid'))\n",
    "model_new.summary()\n",
    "\n",
    "# Compile the model with the Adam optimizer and binary cross-entropy loss\n",
    "opt = Adam(learning_rate=LEARNING_RATE)\n",
    "model_new.compile(loss='binary_crossentropy', optimizer=opt, metrics=['accuracy'])\n",
    "\n",
    "# Train the model using the preprocessed training dataset for the specified number of epochs and batch size\n",
    "history_new = model_new.fit(X_train_new, Y_train_new, epochs=EPOCHS, batch_size=BATCH_SIZE, validation_split=0.1, callbacks=[early])\n",
    "\n",
    "# Evaluate the model on the preprocessed testing dataset\n",
    "loss_new, accuracy_new = model_new.evaluate(X_test_new, Y_test_new)\n",
    "print(\"Test Loss:\", loss_new)\n",
    "print(\"Test Accuracy:\", accuracy_new)\n",
    "\n",
    "# Compare the performance of this model with the one achieved in Exercise 8.1\n",
    "print(\"Performance comparison:\")\n",
    "print(\"Original Model - Test Loss:\", history.history['val_loss'][-1])\n",
    "print(\"Original Model - Test Accuracy:\", history.history['val_accuracy'][-1])\n",
    "print(\"New Model - Test Loss:\", loss_new)\n",
    "print(\"New Model - Test Accuracy:\", accuracy_new)\n"
   ]
  },
  {
   "cell_type": "code",
   "execution_count": null,
   "metadata": {},
   "outputs": [],
   "source": []
  }
 ],
 "metadata": {
  "kernelspec": {
   "display_name": "DS",
   "language": "python",
   "name": "python3"
  },
  "language_info": {
   "codemirror_mode": {
    "name": "ipython",
    "version": 3
   },
   "file_extension": ".py",
   "mimetype": "text/x-python",
   "name": "python",
   "nbconvert_exporter": "python",
   "pygments_lexer": "ipython3",
   "version": "3.10.13"
  }
 },
 "nbformat": 4,
 "nbformat_minor": 2
}
