{
 "cells": [
  {
   "cell_type": "markdown",
   "metadata": {},
   "source": [
    "## Step 1: Prepare for the Food Reviews Dataset"
   ]
  },
  {
   "cell_type": "code",
   "execution_count": 1,
   "metadata": {},
   "outputs": [],
   "source": [
    "# import pandas as pd\n",
    "\n",
    "# food_reviews_full = pd.read_csv('./food_reviews.csv')\n",
    "\n",
    "# # Sample the Subset\n",
    "# subset_size = 2000  # Define the size of your subset\n",
    "# food_reviews_subset = food_reviews_full.sample(n=subset_size, random_state=42)\n",
    "\n",
    "# # Save the Subset\n",
    "# food_reviews_subset.to_csv('food_reviews_subset.csv', index=False)"
   ]
  },
  {
   "cell_type": "code",
   "execution_count": 2,
   "metadata": {},
   "outputs": [],
   "source": [
    "# food_reviews_subset.head()"
   ]
  },
  {
   "cell_type": "code",
   "execution_count": 3,
   "metadata": {},
   "outputs": [],
   "source": [
    "import pandas as pd\n",
    "\n",
    "food_reviews_subset = pd.read_csv('./food_reviews_subset.csv')\n",
    "# Pre-processing Steps\n",
    "# Handle Missing Values: Depending on your dataset,\n",
    "# handle missing values in the 'review' or 'rating' columns.\n",
    "# For simplicity, we can drop rows with missing values.\n",
    "food_reviews_subset.dropna(inplace=True)"
   ]
  },
  {
   "cell_type": "code",
   "execution_count": 4,
   "metadata": {},
   "outputs": [
    {
     "data": {
      "text/html": [
       "<div>\n",
       "<style scoped>\n",
       "    .dataframe tbody tr th:only-of-type {\n",
       "        vertical-align: middle;\n",
       "    }\n",
       "\n",
       "    .dataframe tbody tr th {\n",
       "        vertical-align: top;\n",
       "    }\n",
       "\n",
       "    .dataframe thead th {\n",
       "        text-align: right;\n",
       "    }\n",
       "</style>\n",
       "<table border=\"1\" class=\"dataframe\">\n",
       "  <thead>\n",
       "    <tr style=\"text-align: right;\">\n",
       "      <th></th>\n",
       "      <th>Score</th>\n",
       "      <th>Summary</th>\n",
       "      <th>Text</th>\n",
       "    </tr>\n",
       "  </thead>\n",
       "  <tbody>\n",
       "    <tr>\n",
       "      <th>0</th>\n",
       "      <td>1</td>\n",
       "      <td>Misleading Image of Item</td>\n",
       "      <td>Be aware that the image shown is not the true ...</td>\n",
       "    </tr>\n",
       "    <tr>\n",
       "      <th>1</th>\n",
       "      <td>5</td>\n",
       "      <td>Delicious</td>\n",
       "      <td>I love these chips, I buy the 24 pack once a m...</td>\n",
       "    </tr>\n",
       "    <tr>\n",
       "      <th>2</th>\n",
       "      <td>5</td>\n",
       "      <td>Delicious!</td>\n",
       "      <td>This is the best chai I've ever had in my life...</td>\n",
       "    </tr>\n",
       "    <tr>\n",
       "      <th>3</th>\n",
       "      <td>3</td>\n",
       "      <td>Bought on Recommendation</td>\n",
       "      <td>I bought this Organic catnip because it came u...</td>\n",
       "    </tr>\n",
       "    <tr>\n",
       "      <th>4</th>\n",
       "      <td>5</td>\n",
       "      <td>These chips are addictive!</td>\n",
       "      <td>&lt;a href=\"http://www.amazon.com/gp/product/B000...</td>\n",
       "    </tr>\n",
       "  </tbody>\n",
       "</table>\n",
       "</div>"
      ],
      "text/plain": [
       "   Score                     Summary  \\\n",
       "0      1    Misleading Image of Item   \n",
       "1      5                   Delicious   \n",
       "2      5                  Delicious!   \n",
       "3      3    Bought on Recommendation   \n",
       "4      5  These chips are addictive!   \n",
       "\n",
       "                                                Text  \n",
       "0  Be aware that the image shown is not the true ...  \n",
       "1  I love these chips, I buy the 24 pack once a m...  \n",
       "2  This is the best chai I've ever had in my life...  \n",
       "3  I bought this Organic catnip because it came u...  \n",
       "4  <a href=\"http://www.amazon.com/gp/product/B000...  "
      ]
     },
     "execution_count": 4,
     "metadata": {},
     "output_type": "execute_result"
    }
   ],
   "source": [
    "food_reviews_subset.head()"
   ]
  },
  {
   "cell_type": "code",
   "execution_count": 5,
   "metadata": {},
   "outputs": [
    {
     "data": {
      "text/html": [
       "<div>\n",
       "<style scoped>\n",
       "    .dataframe tbody tr th:only-of-type {\n",
       "        vertical-align: middle;\n",
       "    }\n",
       "\n",
       "    .dataframe tbody tr th {\n",
       "        vertical-align: top;\n",
       "    }\n",
       "\n",
       "    .dataframe thead th {\n",
       "        text-align: right;\n",
       "    }\n",
       "</style>\n",
       "<table border=\"1\" class=\"dataframe\">\n",
       "  <thead>\n",
       "    <tr style=\"text-align: right;\">\n",
       "      <th></th>\n",
       "      <th>Summary</th>\n",
       "      <th>Text</th>\n",
       "    </tr>\n",
       "  </thead>\n",
       "  <tbody>\n",
       "    <tr>\n",
       "      <th>0</th>\n",
       "      <td>Misleading Image of Item</td>\n",
       "      <td>Be aware that the image shown is not the true ...</td>\n",
       "    </tr>\n",
       "    <tr>\n",
       "      <th>1</th>\n",
       "      <td>Delicious</td>\n",
       "      <td>I love these chips, I buy the 24 pack once a m...</td>\n",
       "    </tr>\n",
       "    <tr>\n",
       "      <th>2</th>\n",
       "      <td>Delicious!</td>\n",
       "      <td>This is the best chai I've ever had in my life...</td>\n",
       "    </tr>\n",
       "    <tr>\n",
       "      <th>3</th>\n",
       "      <td>Bought on Recommendation</td>\n",
       "      <td>I bought this Organic catnip because it came u...</td>\n",
       "    </tr>\n",
       "    <tr>\n",
       "      <th>4</th>\n",
       "      <td>These chips are addictive!</td>\n",
       "      <td>I first tasted these chips while visiting re...</td>\n",
       "    </tr>\n",
       "  </tbody>\n",
       "</table>\n",
       "</div>"
      ],
      "text/plain": [
       "                      Summary  \\\n",
       "0    Misleading Image of Item   \n",
       "1                   Delicious   \n",
       "2                  Delicious!   \n",
       "3    Bought on Recommendation   \n",
       "4  These chips are addictive!   \n",
       "\n",
       "                                                Text  \n",
       "0  Be aware that the image shown is not the true ...  \n",
       "1  I love these chips, I buy the 24 pack once a m...  \n",
       "2  This is the best chai I've ever had in my life...  \n",
       "3  I bought this Organic catnip because it came u...  \n",
       "4    I first tasted these chips while visiting re...  "
      ]
     },
     "execution_count": 5,
     "metadata": {},
     "output_type": "execute_result"
    }
   ],
   "source": [
    "import re\n",
    "# remove urls and html tags\n",
    "def remove_links_and_html_tags(text):\n",
    "    # Remove links\n",
    "    text = re.sub(r'http\\S+|www\\.\\S+', '', text)\n",
    "    # Remove HTML tags\n",
    "    text = re.sub(r'<.*?>', '', text)\n",
    "    return text\n",
    "\n",
    "# Apply the cleaning function to both 'Summary' and 'Text' columns\n",
    "food_reviews_subset['Summary'] = food_reviews_subset['Summary'].apply(remove_links_and_html_tags)\n",
    "food_reviews_subset['Text'] = food_reviews_subset['Text'].apply(remove_links_and_html_tags)\n",
    "\n",
    "# Display the cleaned data to verify the changes\n",
    "food_reviews_subset[['Summary', 'Text']].head()\n"
   ]
  },
  {
   "cell_type": "code",
   "execution_count": 6,
   "metadata": {},
   "outputs": [
    {
     "name": "stderr",
     "output_type": "stream",
     "text": [
      "[nltk_data] Downloading package punkt to\n",
      "[nltk_data]     C:\\Users\\zehao\\AppData\\Roaming\\nltk_data...\n",
      "[nltk_data]   Package punkt is already up-to-date!\n"
     ]
    },
    {
     "data": {
      "text/html": [
       "<div>\n",
       "<style scoped>\n",
       "    .dataframe tbody tr th:only-of-type {\n",
       "        vertical-align: middle;\n",
       "    }\n",
       "\n",
       "    .dataframe tbody tr th {\n",
       "        vertical-align: top;\n",
       "    }\n",
       "\n",
       "    .dataframe thead th {\n",
       "        text-align: right;\n",
       "    }\n",
       "</style>\n",
       "<table border=\"1\" class=\"dataframe\">\n",
       "  <thead>\n",
       "    <tr style=\"text-align: right;\">\n",
       "      <th></th>\n",
       "      <th>Summary</th>\n",
       "      <th>Text</th>\n",
       "    </tr>\n",
       "  </thead>\n",
       "  <tbody>\n",
       "    <tr>\n",
       "      <th>0</th>\n",
       "      <td>[Misleading, Image, of, Item]</td>\n",
       "      <td>[Be, aware, that, the, image, shown, is, not, ...</td>\n",
       "    </tr>\n",
       "    <tr>\n",
       "      <th>1</th>\n",
       "      <td>[Delicious]</td>\n",
       "      <td>[I, love, these, chips, ,, I, buy, the, 24, pa...</td>\n",
       "    </tr>\n",
       "    <tr>\n",
       "      <th>2</th>\n",
       "      <td>[Delicious, !]</td>\n",
       "      <td>[This, is, the, best, chai, I, 've, ever, had,...</td>\n",
       "    </tr>\n",
       "    <tr>\n",
       "      <th>3</th>\n",
       "      <td>[Bought, on, Recommendation]</td>\n",
       "      <td>[I, bought, this, Organic, catnip, because, it...</td>\n",
       "    </tr>\n",
       "    <tr>\n",
       "      <th>4</th>\n",
       "      <td>[These, chips, are, addictive, !]</td>\n",
       "      <td>[I, first, tasted, these, chips, while, visiti...</td>\n",
       "    </tr>\n",
       "  </tbody>\n",
       "</table>\n",
       "</div>"
      ],
      "text/plain": [
       "                             Summary  \\\n",
       "0      [Misleading, Image, of, Item]   \n",
       "1                        [Delicious]   \n",
       "2                     [Delicious, !]   \n",
       "3       [Bought, on, Recommendation]   \n",
       "4  [These, chips, are, addictive, !]   \n",
       "\n",
       "                                                Text  \n",
       "0  [Be, aware, that, the, image, shown, is, not, ...  \n",
       "1  [I, love, these, chips, ,, I, buy, the, 24, pa...  \n",
       "2  [This, is, the, best, chai, I, 've, ever, had,...  \n",
       "3  [I, bought, this, Organic, catnip, because, it...  \n",
       "4  [I, first, tasted, these, chips, while, visiti...  "
      ]
     },
     "execution_count": 6,
     "metadata": {},
     "output_type": "execute_result"
    }
   ],
   "source": [
    "import nltk\n",
    "# Tokenization\n",
    "from nltk.tokenize import word_tokenize\n",
    "\n",
    "# Download the punkt tokenizer models\n",
    "nltk.download('punkt')\n",
    "\n",
    "# Tokenize the 'Summary' and 'Text' columns\n",
    "food_reviews_subset['Summary'] = food_reviews_subset['Summary'].apply(\n",
    "    word_tokenize)\n",
    "food_reviews_subset['Text'] = food_reviews_subset['Text'].apply(word_tokenize)\n",
    "\n",
    "# Display the tokenized data\n",
    "food_reviews_subset[['Summary', 'Text']].head()"
   ]
  },
  {
   "cell_type": "code",
   "execution_count": 7,
   "metadata": {},
   "outputs": [],
   "source": [
    "# combine the summary and text columns\n",
    "food_reviews_subset['Combination'] = food_reviews_subset['Summary'] + \\\n",
    "    food_reviews_subset['Text']\n",
    "\n",
    "# remove Summary and Text columns\n",
    "food_reviews_subset.drop(columns=['Summary', 'Text'], inplace=True)"
   ]
  },
  {
   "cell_type": "code",
   "execution_count": 8,
   "metadata": {},
   "outputs": [
    {
     "data": {
      "text/html": [
       "<div>\n",
       "<style scoped>\n",
       "    .dataframe tbody tr th:only-of-type {\n",
       "        vertical-align: middle;\n",
       "    }\n",
       "\n",
       "    .dataframe tbody tr th {\n",
       "        vertical-align: top;\n",
       "    }\n",
       "\n",
       "    .dataframe thead th {\n",
       "        text-align: right;\n",
       "    }\n",
       "</style>\n",
       "<table border=\"1\" class=\"dataframe\">\n",
       "  <thead>\n",
       "    <tr style=\"text-align: right;\">\n",
       "      <th></th>\n",
       "      <th>Combination</th>\n",
       "    </tr>\n",
       "  </thead>\n",
       "  <tbody>\n",
       "    <tr>\n",
       "      <th>0</th>\n",
       "      <td>[Misleading, Image, of, Item, Be, aware, that,...</td>\n",
       "    </tr>\n",
       "    <tr>\n",
       "      <th>1</th>\n",
       "      <td>[Delicious, I, love, these, chips, I, buy, the...</td>\n",
       "    </tr>\n",
       "    <tr>\n",
       "      <th>2</th>\n",
       "      <td>[Delicious, This, is, the, best, chai, I, ever...</td>\n",
       "    </tr>\n",
       "    <tr>\n",
       "      <th>3</th>\n",
       "      <td>[Bought, on, Recommendation, I, bought, this, ...</td>\n",
       "    </tr>\n",
       "    <tr>\n",
       "      <th>4</th>\n",
       "      <td>[These, chips, are, addictive, I, first, taste...</td>\n",
       "    </tr>\n",
       "  </tbody>\n",
       "</table>\n",
       "</div>"
      ],
      "text/plain": [
       "                                         Combination\n",
       "0  [Misleading, Image, of, Item, Be, aware, that,...\n",
       "1  [Delicious, I, love, these, chips, I, buy, the...\n",
       "2  [Delicious, This, is, the, best, chai, I, ever...\n",
       "3  [Bought, on, Recommendation, I, bought, this, ...\n",
       "4  [These, chips, are, addictive, I, first, taste..."
      ]
     },
     "execution_count": 8,
     "metadata": {},
     "output_type": "execute_result"
    }
   ],
   "source": [
    "# remove punctuation\n",
    "# from string import punctuation\n",
    "def remove_punctuation(tokens):\n",
    "    # This part of the list comprehension filters out any tokens\n",
    "    # that do not satisfy the word.isalnum() condition, meaning any\n",
    "    # token that is not purely alphanumeric gets removed.\n",
    "    return [word for word in tokens if word.isalnum()]\n",
    "\n",
    "\n",
    "# Apply the remove_punctuation function to both 'Summary' and 'Text' columns\n",
    "food_reviews_subset['Combination'] = food_reviews_subset['Combination'].apply(\n",
    "    remove_punctuation)\n",
    "\n",
    "# Display the data to verify the changes\n",
    "food_reviews_subset[['Combination']].head()"
   ]
  },
  {
   "cell_type": "code",
   "execution_count": 9,
   "metadata": {},
   "outputs": [
    {
     "data": {
      "text/html": [
       "<div>\n",
       "<style scoped>\n",
       "    .dataframe tbody tr th:only-of-type {\n",
       "        vertical-align: middle;\n",
       "    }\n",
       "\n",
       "    .dataframe tbody tr th {\n",
       "        vertical-align: top;\n",
       "    }\n",
       "\n",
       "    .dataframe thead th {\n",
       "        text-align: right;\n",
       "    }\n",
       "</style>\n",
       "<table border=\"1\" class=\"dataframe\">\n",
       "  <thead>\n",
       "    <tr style=\"text-align: right;\">\n",
       "      <th></th>\n",
       "      <th>Combination</th>\n",
       "    </tr>\n",
       "  </thead>\n",
       "  <tbody>\n",
       "    <tr>\n",
       "      <th>0</th>\n",
       "      <td>[misleading, image, of, item, be, aware, that,...</td>\n",
       "    </tr>\n",
       "    <tr>\n",
       "      <th>1</th>\n",
       "      <td>[delicious, i, love, these, chips, i, buy, the...</td>\n",
       "    </tr>\n",
       "    <tr>\n",
       "      <th>2</th>\n",
       "      <td>[delicious, this, is, the, best, chai, i, ever...</td>\n",
       "    </tr>\n",
       "    <tr>\n",
       "      <th>3</th>\n",
       "      <td>[bought, on, recommendation, i, bought, this, ...</td>\n",
       "    </tr>\n",
       "    <tr>\n",
       "      <th>4</th>\n",
       "      <td>[these, chips, are, addictive, i, first, taste...</td>\n",
       "    </tr>\n",
       "  </tbody>\n",
       "</table>\n",
       "</div>"
      ],
      "text/plain": [
       "                                         Combination\n",
       "0  [misleading, image, of, item, be, aware, that,...\n",
       "1  [delicious, i, love, these, chips, i, buy, the...\n",
       "2  [delicious, this, is, the, best, chai, i, ever...\n",
       "3  [bought, on, recommendation, i, bought, this, ...\n",
       "4  [these, chips, are, addictive, i, first, taste..."
      ]
     },
     "execution_count": 9,
     "metadata": {},
     "output_type": "execute_result"
    }
   ],
   "source": [
    "# lower case\n",
    "def to_lowercase(tokens):\n",
    "    return [word.lower() for word in tokens]\n",
    "\n",
    "# Apply the to_lowercase function to the 'Combination' column\n",
    "food_reviews_subset['Combination'] = food_reviews_subset['Combination'].apply(\n",
    "    to_lowercase)\n",
    "\n",
    "food_reviews_subset[['Combination']].head()"
   ]
  },
  {
   "cell_type": "code",
   "execution_count": 10,
   "metadata": {},
   "outputs": [
    {
     "name": "stderr",
     "output_type": "stream",
     "text": [
      "[nltk_data] Downloading package stopwords to\n",
      "[nltk_data]     C:\\Users\\zehao\\AppData\\Roaming\\nltk_data...\n",
      "[nltk_data]   Package stopwords is already up-to-date!\n"
     ]
    },
    {
     "data": {
      "text/plain": [
       "0    [misleading, image, item, aware, image, shown,...\n",
       "1    [delicious, love, chips, buy, 24, pack, month,...\n",
       "2    [delicious, best, chai, ever, life, well, exce...\n",
       "3    [bought, recommendation, bought, organic, catn...\n",
       "4    [chips, addictive, first, tasted, chips, visit...\n",
       "Name: Combination_without_stopwords, dtype: object"
      ]
     },
     "execution_count": 10,
     "metadata": {},
     "output_type": "execute_result"
    }
   ],
   "source": [
    "# remove stop words\n",
    "from nltk.corpus import stopwords\n",
    "nltk.download('stopwords')\n",
    "\n",
    "# Get the English stop words\n",
    "stop_words = set(stopwords.words('english'))\n",
    "\n",
    "\n",
    "def remove_stop_words(tokens):\n",
    "    return [word for word in tokens if word.lower() not in stop_words]\n",
    "\n",
    "\n",
    "# Apply the remove_stop_words function to the 'Combination' column\n",
    "food_reviews_subset['Combination_without_stopwords'] = food_reviews_subset['Combination'].apply(\n",
    "    remove_stop_words)\n",
    "\n",
    "# Display the data to verify the changes\n",
    "food_reviews_subset['Combination_without_stopwords'].head()"
   ]
  },
  {
   "cell_type": "code",
   "execution_count": 11,
   "metadata": {},
   "outputs": [
    {
     "name": "stderr",
     "output_type": "stream",
     "text": [
      "[nltk_data] Downloading package wordnet to\n",
      "[nltk_data]     C:\\Users\\zehao\\AppData\\Roaming\\nltk_data...\n",
      "[nltk_data]   Package wordnet is already up-to-date!\n",
      "[nltk_data] Downloading package averaged_perceptron_tagger to\n",
      "[nltk_data]     C:\\Users\\zehao\\AppData\\Roaming\\nltk_data...\n",
      "[nltk_data]   Package averaged_perceptron_tagger is already up-to-\n",
      "[nltk_data]       date!\n"
     ]
    },
    {
     "data": {
      "text/plain": [
       "0    [mislead, image, item, aware, image, show, tru...\n",
       "1    [delicious, love, chip, buy, 24, pack, month, ...\n",
       "2    [delicious, best, chai, ever, life, well, exce...\n",
       "3    [bought, recommendation, bought, organic, catn...\n",
       "4    [chip, addictive, first, taste, chip, visit, r...\n",
       "Name: Combination_without_stopwords_Lemmatized, dtype: object"
      ]
     },
     "execution_count": 11,
     "metadata": {},
     "output_type": "execute_result"
    }
   ],
   "source": [
    "# stemming and lemmatization with Part of Speech (POS) tagging\n",
    "from nltk.stem import WordNetLemmatizer\n",
    "from nltk import pos_tag\n",
    "from nltk.corpus import wordnet\n",
    "nltk.download('wordnet')\n",
    "nltk.download('averaged_perceptron_tagger')\n",
    "\n",
    "# Initialize the lemmatizer\n",
    "lemmatizer = WordNetLemmatizer()\n",
    "\n",
    "\n",
    "def get_wordnet_pos(word):\n",
    "    \"\"\"Map POS tag to first character lemmatize() accepts\"\"\"\n",
    "    tag = pos_tag([word])[0][1][0].upper()\n",
    "    tag_dict = {\"J\": wordnet.ADJ,\n",
    "                \"N\": wordnet.NOUN,\n",
    "                \"V\": wordnet.VERB,\n",
    "                \"R\": wordnet.ADV}\n",
    "\n",
    "    return tag_dict.get(tag, wordnet.NOUN)\n",
    "\n",
    "\n",
    "def lemmatize(tokens):\n",
    "    return [lemmatizer.lemmatize(word, get_wordnet_pos(word)) for word in tokens]\n",
    "\n",
    "\n",
    "# Apply the lemmatize function to the 'Combination_without_stopwords' column\n",
    "food_reviews_subset['Combination_without_stopwords_Lemmatized'] = food_reviews_subset['Combination_without_stopwords'].apply(\n",
    "    lemmatize)\n",
    "\n",
    "# Display the data to verify the changes\n",
    "food_reviews_subset['Combination_without_stopwords_Lemmatized'].head()"
   ]
  },
  {
   "cell_type": "code",
   "execution_count": 12,
   "metadata": {},
   "outputs": [],
   "source": [
    "food_reviews_subset['Final_review'] = food_reviews_subset['Combination_without_stopwords_Lemmatized']"
   ]
  },
  {
   "cell_type": "code",
   "execution_count": 13,
   "metadata": {},
   "outputs": [],
   "source": [
    "food_reviews_subset.to_csv('food_reviews_subset_cleanned.csv', index=False)"
   ]
  },
  {
   "cell_type": "markdown",
   "metadata": {},
   "source": [
    "### Seperate the Training Set and Testing Set"
   ]
  },
  {
   "cell_type": "code",
   "execution_count": 14,
   "metadata": {},
   "outputs": [],
   "source": [
    "from sklearn.model_selection import train_test_split\n",
    "import pandas as pd\n",
    "# Load the cleaned dataset\n",
    "food_reviews = pd.read_csv('./food_reviews_subset_cleanned.csv')\n",
    "\n",
    "# Split the data into training and testing sets\n",
    "Review_train, Review_test, Score_train, Score_test = train_test_split(\n",
    "    food_reviews['Final_review'], food_reviews['Score'], test_size=0.3, random_state=42)"
   ]
  },
  {
   "cell_type": "markdown",
   "metadata": {},
   "source": [
    "## Step 2: Naive Bayes"
   ]
  },
  {
   "cell_type": "code",
   "execution_count": 15,
   "metadata": {},
   "outputs": [
    {
     "name": "stdout",
     "output_type": "stream",
     "text": [
      "Accuracy: 0.6466666666666666\n"
     ]
    }
   ],
   "source": [
    "from sklearn.feature_extraction.text import TfidfVectorizer\n",
    "from sklearn.naive_bayes import MultinomialNB\n",
    "from sklearn.pipeline import Pipeline\n",
    "from sklearn.metrics import classification_report, accuracy_score\n",
    "\n",
    "# 2. Create a Pipeline for TF-IDF Vectorization and Naive Bayes Model\n",
    "nb_pipeline = Pipeline([\n",
    "    # Text representation: TF-IDF\n",
    "    ('tfidf', TfidfVectorizer()),\n",
    "    # Classifier: Multinomial Naive Bayes\n",
    "    ('naive_bayes', MultinomialNB())\n",
    "])\n",
    "\n",
    "# 3. Train the Naive Bayes Model\n",
    "nb_pipeline.fit(Review_train, Score_train)\n",
    "\n",
    "# 4. Test the Model\n",
    "Score_pred = nb_pipeline.predict(Review_test)\n",
    "\n",
    "# 5. Evaluate the Model\n",
    "print(\"Accuracy:\", accuracy_score(Score_test, Score_pred))\n",
    "# print(\"\\nClassification Report:\\n\", classification_report(Score_test, Score_pred))"
   ]
  },
  {
   "cell_type": "markdown",
   "metadata": {},
   "source": [
    "## Step 3 kNN"
   ]
  },
  {
   "cell_type": "code",
   "execution_count": 16,
   "metadata": {},
   "outputs": [
    {
     "name": "stdout",
     "output_type": "stream",
     "text": [
      "Best k: 7 with Test Set Accuracy: 0.65\n"
     ]
    },
    {
     "data": {
      "image/png": "[encoded data removed]",
      "text/plain": [
       "<Figure size 640x480 with 1 Axes>"
      ]
     },
     "metadata": {},
     "output_type": "display_data"
    }
   ],
   "source": [
    "import numpy as np\n",
    "import matplotlib.pyplot as plt\n",
    "from sklearn.model_selection import cross_val_score\n",
    "from sklearn.feature_extraction.text import TfidfVectorizer\n",
    "from sklearn.neighbors import KNeighborsClassifier\n",
    "from sklearn.pipeline import Pipeline\n",
    "\n",
    "# Assuming 'df_subset' is your cleaned DataFrame containing 'Cleaned_Text' and 'Score' columns\n",
    "# Step 2: Set up a pipeline with TF-IDF and k-NN\n",
    "k_values = [1, 3, 5, 7]\n",
    "cross_val_scores = []\n",
    "\n",
    "for k in k_values:\n",
    "    pipeline = Pipeline([\n",
    "        ('tfidf', TfidfVectorizer()),\n",
    "        ('knn', KNeighborsClassifier(n_neighbors=k))\n",
    "    ])\n",
    "\n",
    "    # Use cross-validation to evaluate the model\n",
    "    scores = cross_val_score(pipeline, Review_train, Score_train,\n",
    "                             cv=5, scoring='accuracy')\n",
    "    cross_val_scores.append(np.mean(scores))\n",
    "\n",
    "# Step 3: Find the best k based on cross-validation scores\n",
    "best_k_index = np.argmax(cross_val_scores)\n",
    "best_k = k_values[best_k_index]\n",
    "\n",
    "# Train the final model with the best k\n",
    "final_model = Pipeline([\n",
    "    ('tfidf', TfidfVectorizer()),\n",
    "    ('knn', KNeighborsClassifier(n_neighbors=best_k))\n",
    "])\n",
    "final_model.fit(Review_train, Score_train)\n",
    "\n",
    "# Test the final model on the test set\n",
    "Score_pred = final_model.predict(Review_test)\n",
    "\n",
    "# Evaluate the final model\n",
    "accuracy = accuracy_score(Score_test, Score_pred)\n",
    "print(f\"Best k: {best_k} with Test Set Accuracy: {accuracy}\")\n",
    "\n",
    "# Step 4: Plot k vs. classification performance\n",
    "plt.plot(k_values, cross_val_scores, marker='o')\n",
    "plt.title('k-NN: Number of Neighbors (k) vs. Accuracy')\n",
    "plt.xlabel('Number of Neighbors (k)')\n",
    "plt.ylabel('Cross-Validated Accuracy')\n",
    "plt.xticks(k_values)\n",
    "plt.show()"
   ]
  },
  {
   "cell_type": "code",
   "execution_count": null,
   "metadata": {},
   "outputs": [],
   "source": []
  }
 ],
 "metadata": {
  "kernelspec": {
   "display_name": "textmining",
   "language": "python",
   "name": "python3"
  },
  "language_info": {
   "codemirror_mode": {
    "name": "ipython",
    "version": 3
   },
   "file_extension": ".py",
   "mimetype": "text/x-python",
   "name": "python",
   "nbconvert_exporter": "python",
   "pygments_lexer": "ipython3",
   "version": "3.10.13"
  }
 },
 "nbformat": 4,
 "nbformat_minor": 2
}
